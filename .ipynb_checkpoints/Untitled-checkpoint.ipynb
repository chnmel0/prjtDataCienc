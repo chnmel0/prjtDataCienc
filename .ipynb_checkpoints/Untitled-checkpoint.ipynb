{
 "cells": [
  {
   "cell_type": "markdown",
   "metadata": {
    "deletable": true,
    "editable": true
   },
   "source": [
    "# prjtDataCienc"
   ]
  },
  {
   "cell_type": "code",
   "execution_count": 1,
   "metadata": {
    "collapsed": true,
    "deletable": true,
    "editable": true
   },
   "outputs": [],
   "source": [
    "import pandas as pd\n",
    "import numpy as np\n",
    "from bs4 import BeautifulSoup\n",
    "import requests as rq\n",
    "from datetime import date\n",
    "import os"
   ]
  },
  {
   "cell_type": "code",
   "execution_count": 2,
   "metadata": {
    "collapsed": false,
    "deletable": true,
    "editable": true
   },
   "outputs": [
    {
     "name": "stdout",
     "output_type": "stream",
     "text": [
      "<!DOCTYPE html>\n",
      "<html lang=\"pt\">\n",
      " <head>\n",
      "  <title>\n",
      "   Magazine Luiza - Vem ser feliz!\n",
      "  </title>\n",
      "  <meta content=\"    As melhores ofertas em móveis, eletrônicos, eletrodomésticos, informática e muito mais, você encontra no site do Magazine Luiza! Confira!\n",
      "  \" name=\"description\">\n",
      "   <link href=\"http://www.magazineluiza.com.br/\" rel=\"canonical\"/>\n",
      "   <link href=\"https://m.magazineluiza.com.br\" rel=\"alternate\"/>\n",
      "   <script type=\"text/javascript\">\n",
      "    (window.NREUM||(NREUM={})).loader_config={xpid:\"VQ8FV1ZUGwIAVlJRBgUD\"};window.NREUM||(NREUM={}),__nr_require=function(t,n,e){function r(e){if(!n[e]){var o=n[e]={exports:{}};t[e][0].call(o.exports,function(n){var o=t[e][1][n];return r(o||n)},o,o.exports)}return n[e].exports}if(\"function\"==typeof __nr_require)return __nr_require;for(var o=0;o<e.length;o++)r(e[o]);return r}({1:[function(t,n,e){function r(t){try{s.console&&console.log(t)}catch(n){}}var o,i=t(\"ee\"),a=t(15),s={};try{o=localStorage.getItem(\"__nr_flags\").split(\",\"),console&&\"function\"\n"
     ]
    }
   ],
   "source": [
    "url=\"http://www.magazineluiza.com.br/\"\n",
    "headers = {\"User-Agent\":\"Mozilla/5.0\"}\n",
    "response = rq.get(url, headers=headers)\n",
    "parsed_page_home = BeautifulSoup(response.text,\"html.parser\")\n",
    "print(parsed_page_home.prettify()[:1000])"
   ]
  },
  {
   "cell_type": "code",
   "execution_count": 3,
   "metadata": {
    "collapsed": false,
    "deletable": true,
    "editable": true
   },
   "outputs": [
    {
     "data": {
      "text/plain": [
       "[['celulares',\n",
       "  'http://www.magazineluiza.com.br/celulares-e-smartphones/l/te/'],\n",
       " ['tablets', 'http://www.magazineluiza.com.br/tablets/l/tb/'],\n",
       " ['tv e vídeo', 'http://www.magazineluiza.com.br/tv-e-video/l/et/'],\n",
       " ['áudio', 'http://www.magazineluiza.com.br/audio/l/ea/'],\n",
       " ['informática', 'http://www.magazineluiza.com.br/informatica/l/in/'],\n",
       " ['informática e acessórios',\n",
       "  'http://www.magazineluiza.com.br/acessorios-de-tecnologia/l/ia/'],\n",
       " ['câmeras e filmadoras',\n",
       "  'http://www.magazineluiza.com.br/cameras-e-filmadoras/l/cf/'],\n",
       " ['games', 'http://www.magazineluiza.com.br/games/l/ga/'],\n",
       " ['eletrodomésticos',\n",
       "  'http://www.magazineluiza.com.br/eletrodomesticos/l/ed/'],\n",
       " ['eletroportáteis', 'http://www.magazineluiza.com.br/eletroportateis/l/ep/'],\n",
       " ['móveis', 'http://www.magazineluiza.com.br/moveis-e-decoracao/l/mo/'],\n",
       " ['colchões', 'http://www.magazineluiza.com.br/colchoes/l/co/'],\n",
       " ['ar e ventilação', 'http://www.magazineluiza.com.br/ar-e-ventilacao/l/ar/'],\n",
       " ['bebês', 'http://www.magazineluiza.com.br/bebe/l/bb/'],\n",
       " ['brinquedos', 'http://www.magazineluiza.com.br/brinquedos/l/br/'],\n",
       " ['perfumaria e cosméticos',\n",
       "  'http://www.magazineluiza.com.br/perfumaria/l/pf/'],\n",
       " ['beleza e saúde', 'http://www.magazineluiza.com.br/beleza-e-saude/l/cp/'],\n",
       " ['esporte e lazer', 'http://www.magazineluiza.com.br/esporte-e-lazer/l/es/'],\n",
       " ['suplementos alimentares',\n",
       "  'http://www.magazineluiza.com.br/suplementos-alimentares/l/sa/'],\n",
       " ['relógios e acessórios', 'http://www.magazineluiza.com.br/relogios/l/re/'],\n",
       " ['cama, mesa e banho',\n",
       "  'http://www.magazineluiza.com.br/cama-mesa-e-banho/l/cm/'],\n",
       " ['utilidades domésticas',\n",
       "  'http://www.magazineluiza.com.br/utilidades-domesticas/l/ud/'],\n",
       " ['linha industrial',\n",
       "  'http://www.magazineluiza.com.br/linha-industrial/l/pi/'],\n",
       " ['casa e jardim', 'http://www.magazineluiza.com.br/casa-e-jardim/l/cj/'],\n",
       " ['ferramentas e segurança',\n",
       "  'http://www.magazineluiza.com.br/ferramentas-e-seguranca/l/fs/'],\n",
       " ['automotivo', 'http://www.magazineluiza.com.br/automotivo/l/au/'],\n",
       " ['telefonia fixa', 'http://www.magazineluiza.com.br/telefonia-fixa/l/tf/'],\n",
       " ['mercado', 'http://www.magazineluiza.com.br/mercado/l/me/'],\n",
       " ['bebidas e alimentos',\n",
       "  'http://www.magazineluiza.com.br/bebidas-e-alimentos/l/ba/'],\n",
       " ['instrumentos musicais',\n",
       "  'http://www.magazineluiza.com.br/instrumentos-musicais/l/im/'],\n",
       " ['pet shop', 'http://www.magazineluiza.com.br/pet-shop/l/pe/'],\n",
       " ['livros', 'http://www.magazineluiza.com.br/livros/l/li/'],\n",
       " ['papelaria', 'http://www.magazineluiza.com.br/papelaria/l/pa/'],\n",
       " ['armarinhos', 'http://www.magazineluiza.com.br/armarinhos/l/am/']]"
      ]
     },
     "execution_count": 3,
     "metadata": {},
     "output_type": "execute_result"
    }
   ],
   "source": [
    "link =parsed_page_home.find_all('a',class_=\"title-menu-header \" )\n",
    "link\n",
    "list_of_categorias=[]\n",
    "listOfLinksHOme=[]\n",
    "for i in link:\n",
    "        listOfLinksHOme.append([i.text,'http://www.magazineluiza.com.br'+i.get('href')])\n",
    "        list_of_categorias.append(i.text)\n",
    "listOfLinksHOme"
   ]
  },
  {
   "cell_type": "code",
   "execution_count": 4,
   "metadata": {
    "collapsed": false,
    "deletable": true,
    "editable": true
   },
   "outputs": [],
   "source": [
    "dict_of_links={}\n",
    "for e in listOfLinksHOme:\n",
    "    url=e[1]\n",
    "    headers = {\"User-Agent\":\"Mozilla/5.0\"}\n",
    "    response = rq.get(url, headers=headers)\n",
    "    parsed_page = BeautifulSoup(response.text,\"html.parser\")\n",
    "    if parsed_page.find('ul', class_='container-menu-side block-line-menu-left') != None:\n",
    "        link2 = parsed_page.find_all('li',class_='line-product')\n",
    "    if e[0] in ['celulares','informática','informática e acessórios']:\n",
    "        for i in link2:\n",
    "            #\n",
    "            if i.find('a') != None and not i.find('a').text in listOfLinksHOme:\n",
    "                if e[0] in dict_of_links:\n",
    "                    dict_of_links[e[0]].append('http://www.magazineluiza.com.br'+i.find('a').get('href'))\n",
    "                else:\n",
    "                    dict_of_links[e[0]]=['http://www.magazineluiza.com.br'+i.find('a').get('href')]"
   ]
  },
  {
   "cell_type": "code",
   "execution_count": 5,
   "metadata": {
    "collapsed": false,
    "deletable": true,
    "editable": true
   },
   "outputs": [],
   "source": [
    "#!mkdir csv\n",
    "arquivos=os.listdir('csv/')"
   ]
  },
  {
   "cell_type": "code",
   "execution_count": 6,
   "metadata": {
    "collapsed": false,
    "deletable": true,
    "editable": true
   },
   "outputs": [
    {
     "data": {
      "text/plain": [
       "'2017-10-19'"
      ]
     },
     "execution_count": 6,
     "metadata": {},
     "output_type": "execute_result"
    }
   ],
   "source": [
    "now = date.today()\n",
    "data =  now.isoformat()\n",
    "#data = pd.to_datetime(data.strip(),format='%Y-%m-%d')\n",
    "data\n",
    "#!mkdir csv/{data}"
   ]
  },
  {
   "cell_type": "code",
   "execution_count": 7,
   "metadata": {
    "collapsed": false,
    "deletable": true,
    "editable": true
   },
   "outputs": [
    {
     "name": "stdout",
     "output_type": "stream",
     "text": [
      "celulares Arquivo csv, criado\n",
      "informática Arquivo csv, criado\n",
      "informática e acessórios Arquivo csv, criado\n"
     ]
    }
   ],
   "source": [
    "for a in dict_of_links:\n",
    "    list_produtos_categorias=[]\n",
    "    for b in dict_of_links[a]:\n",
    "        url=b\n",
    "        headers = {\"User-Agent\":\"Mozilla/5.0\"}\n",
    "        response = rq.get(url, headers=headers)\n",
    "        pagina_categorias = BeautifulSoup(response.text,\"html.parser\")\n",
    "        if pagina_categorias.find('ul', class_='container-menu-side block-line-menu-left') != None:\n",
    "            uls_linhas = pagina_categorias.find_all('ul', class_='container-menu-side block-line-menu-left')\n",
    "            '''for y in uls_linhas:\n",
    "                test =''\n",
    "                if y.find('li', class_='line-product').find('a') != None:\n",
    "                    link_linhas = 'http://www.magazineluiza.com.br'+y.find('li', class_='line-product').find('a').get('href')\n",
    "                    url_linhas=link_linhas\n",
    "                    print(link_linhas)\n",
    "                    headers = {\"User-Agent\":\"Mozilla/5.0\"}\n",
    "                    response = rq.get(url_linhas, headers=headers)\n",
    "                    pagina_linhas = BeautifulSoup(response.text,\"html.parser\") '''\n",
    "        pagination_pagina_linhas=''\n",
    "        if pagina_categorias.find('div',class_='product-showcase-bottom') != None:\n",
    "            pagination_pagina_linhas = pagina_categorias.find('div',class_='product-showcase-bottom').find_all('a',class_='page')\n",
    "        produtos = pagina_categorias.find_all('li',class_='product')\n",
    "        for i in produtos:\n",
    "            link_produto=i.find('a',class_='product-li').get('href')\n",
    "            nome_descricao_produto=i.find('h3',class_='productTitle').text\n",
    "            if i.find('span',class_='productPrice') != None:\n",
    "                valor_produto=i.find('span',class_='productPrice').find('span',class_='price').text\n",
    "                valor_produto=valor_produto.split('$')\n",
    "                valor_produto=float(valor_produto[1].replace('\\n','').replace('.','').replace(',','.').strip())\n",
    "            else:\n",
    "                valor_produto=None\n",
    "            list_produtos_categorias.append(dict(zip(['nome_produto','valor_produto','data_busca','link_produto'],[nome_descricao_produto,valor_produto,data,link_produto])))\n",
    "                    \n",
    "        if pagination_pagina_linhas != '':\n",
    "            for e in pagination_pagina_linhas:\n",
    "                            \n",
    "                link_paginacao = 'http://www.magazineluiza.com.br'+e.get('href')\n",
    "                url_paginacao=link_paginacao\n",
    "                headers = {\"User-Agent\":\"Mozilla/5.0\"}\n",
    "                response = rq.get(url_paginacao, headers=headers)\n",
    "                pagina_paginacao = BeautifulSoup(response.text,\"html.parser\")\n",
    "                produtos = pagina_paginacao.find_all('li',class_='product')\n",
    "                for pagina_i in produtos:\n",
    "                    link_produto=pagina_i.find('a',class_='product-li').get('href')\n",
    "                    nome_descricao_produto=pagina_i.find('h3',class_='productTitle').text\n",
    "                    if pagina_i.find('span',class_='productPrice') != None:\n",
    "                        valor_produto=pagina_i.find('span',class_='productPrice').find('span',class_='price').text\n",
    "                        valor_produto=valor_produto.split('$')\n",
    "                        valor_produto=float(valor_produto[1].replace('\\n','').replace('.','').replace(',','.').strip())\n",
    "                    else:\n",
    "                        valor_produto=None\n",
    "                    list_produtos_categorias.append(dict(zip(['nome_produto','valor_produto','data_busca','link_produto'],[nome_descricao_produto,valor_produto,data,link_produto])))\n",
    "    dataProdutos=''\n",
    "    if 'dt_produtos_'+a+'.csv' in arquivos:\n",
    "        df_join = pd.read_csv('csv/'+'dt_produtos_'+a+'.csv',sep='\\t', encoding='utf-8')\n",
    "        df_list=[]\n",
    "        df_list.append(df_join)\n",
    "        df_produtos =pd.DataFrame(list_produtos_categorias,columns=['nome_produto','valor_produto','data_busca','link_produto'])\n",
    "        df_produtos=pd.concat([df_join,df_produtos], ignore_index=True)\n",
    "    else:\n",
    "        df_produtos =pd.DataFrame(list_produtos_categorias,columns=['nome_produto','valor_produto','data_busca','link_produto'])\n",
    "    df_produtos.to_csv('csv/dt_produtos_'+a+'.csv', sep='\\t', encoding='utf-8',index=False)\n",
    "    print(a+' Arquivo csv, criado')\n",
    "    \n",
    "        \n",
    "    \n",
    "        "
   ]
  },
  {
   "cell_type": "code",
   "execution_count": null,
   "metadata": {
    "collapsed": true,
    "deletable": true,
    "editable": true
   },
   "outputs": [],
   "source": []
  },
  {
   "cell_type": "code",
   "execution_count": null,
   "metadata": {
    "collapsed": true,
    "deletable": true,
    "editable": true
   },
   "outputs": [],
   "source": []
  }
 ],
 "metadata": {
  "kernelspec": {
   "display_name": "Python 3",
   "language": "python",
   "name": "python3"
  },
  "language_info": {
   "codemirror_mode": {
    "name": "ipython",
    "version": 3
   },
   "file_extension": ".py",
   "mimetype": "text/x-python",
   "name": "python",
   "nbconvert_exporter": "python",
   "pygments_lexer": "ipython3",
   "version": "3.5.2"
  }
 },
 "nbformat": 4,
 "nbformat_minor": 2
}
