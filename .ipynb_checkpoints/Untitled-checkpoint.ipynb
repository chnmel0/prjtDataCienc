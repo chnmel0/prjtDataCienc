{
 "cells": [
  {
   "cell_type": "markdown",
   "metadata": {
    "deletable": true,
    "editable": true
   },
   "source": [
    "# prjtDataCienc"
   ]
  },
  {
   "cell_type": "code",
   "execution_count": 49,
   "metadata": {
    "collapsed": true,
    "deletable": true,
    "editable": true
   },
   "outputs": [],
   "source": [
    "import pandas as pd\n",
    "import numpy as np\n",
    "from bs4 import BeautifulSoup\n",
    "import requests as rq\n",
    "from datetime import datetime"
   ]
  },
  {
   "cell_type": "code",
   "execution_count": 50,
   "metadata": {
    "collapsed": false,
    "deletable": true,
    "editable": true
   },
   "outputs": [
    {
     "name": "stdout",
     "output_type": "stream",
     "text": [
      "<!DOCTYPE html>\n",
      "<html lang=\"pt\">\n",
      " <head>\n",
      "  <title>\n",
      "   Magazine Luiza - Vem ser feliz!\n",
      "  </title>\n",
      "  <meta content=\"    As melhores ofertas em móveis, eletrônicos, eletrodomésticos, informática e muito mais, você encontra no site do Magazine Luiza! Confira!\n",
      "  \" name=\"description\">\n",
      "   <link href=\"http://www.magazineluiza.com.br/\" rel=\"canonical\"/>\n",
      "   <link href=\"https://m.magazineluiza.com.br\" rel=\"alternate\"/>\n",
      "   <script type=\"text/javascript\">\n",
      "    (window.NREUM||(NREUM={})).loader_config={xpid:\"VQ8FV1ZUGwIAVlJRBgUD\"};window.NREUM||(NREUM={}),__nr_require=function(t,n,e){function r(e){if(!n[e]){var o=n[e]={exports:{}};t[e][0].call(o.exports,function(n){var o=t[e][1][n];return r(o||n)},o,o.exports)}return n[e].exports}if(\"function\"==typeof __nr_require)return __nr_require;for(var o=0;o<e.length;o++)r(e[o]);return r}({1:[function(t,n,e){function r(t){try{s.console&&console.log(t)}catch(n){}}var o,i=t(\"ee\"),a=t(15),s={};try{o=localStorage.getItem(\"__nr_flags\").split(\",\"),console&&\"function\"\n"
     ]
    }
   ],
   "source": [
    "url=\"http://www.magazineluiza.com.br/\"\n",
    "headers = {\"User-Agent\":\"Mozilla/5.0\"}\n",
    "response = rq.get(url, headers=headers)\n",
    "parsed_page_home = BeautifulSoup(response.text,\"html.parser\")\n",
    "print(parsed_page_home.prettify()[:1000])"
   ]
  },
  {
   "cell_type": "code",
   "execution_count": 84,
   "metadata": {
    "collapsed": false,
    "deletable": true,
    "editable": true
   },
   "outputs": [
    {
     "data": {
      "text/plain": [
       "[['Celulares',\n",
       "  'http://www.magazineluiza.com.br/celulares-e-smartphones/l/te/'],\n",
       " ['Tablets', 'http://www.magazineluiza.com.br/tablets/l/tb/'],\n",
       " ['TV e Vídeo', 'http://www.magazineluiza.com.br/tv-e-video/l/et/'],\n",
       " ['Áudio', 'http://www.magazineluiza.com.br/audio/l/ea/'],\n",
       " ['Informática', 'http://www.magazineluiza.com.br/informatica/l/in/'],\n",
       " ['Informática e Acessórios',\n",
       "  'http://www.magazineluiza.com.br/acessorios-de-tecnologia/l/ia/'],\n",
       " ['Câmeras e Filmadoras',\n",
       "  'http://www.magazineluiza.com.br/cameras-e-filmadoras/l/cf/'],\n",
       " ['Games', 'http://www.magazineluiza.com.br/games/l/ga/'],\n",
       " ['Eletrodomésticos',\n",
       "  'http://www.magazineluiza.com.br/eletrodomesticos/l/ed/'],\n",
       " ['Eletroportáteis', 'http://www.magazineluiza.com.br/eletroportateis/l/ep/'],\n",
       " ['Móveis', 'http://www.magazineluiza.com.br/moveis-e-decoracao/l/mo/'],\n",
       " ['Colchões', 'http://www.magazineluiza.com.br/colchoes/l/co/'],\n",
       " ['Ar e Ventilação', 'http://www.magazineluiza.com.br/ar-e-ventilacao/l/ar/'],\n",
       " ['Bebês', 'http://www.magazineluiza.com.br/bebe/l/bb/'],\n",
       " ['Brinquedos', 'http://www.magazineluiza.com.br/brinquedos/l/br/'],\n",
       " ['Perfumaria e Cosméticos',\n",
       "  'http://www.magazineluiza.com.br/perfumaria/l/pf/'],\n",
       " ['Beleza e Saúde', 'http://www.magazineluiza.com.br/beleza-e-saude/l/cp/'],\n",
       " ['Esporte e Lazer', 'http://www.magazineluiza.com.br/esporte-e-lazer/l/es/'],\n",
       " ['Suplementos Alimentares',\n",
       "  'http://www.magazineluiza.com.br/suplementos-alimentares/l/sa/'],\n",
       " ['Relógios e Acessórios', 'http://www.magazineluiza.com.br/relogios/l/re/'],\n",
       " ['Cama, Mesa e Banho',\n",
       "  'http://www.magazineluiza.com.br/cama-mesa-e-banho/l/cm/'],\n",
       " ['Utilidades Domésticas',\n",
       "  'http://www.magazineluiza.com.br/utilidades-domesticas/l/ud/'],\n",
       " ['Linha Industrial',\n",
       "  'http://www.magazineluiza.com.br/linha-industrial/l/pi/'],\n",
       " ['Casa e Jardim', 'http://www.magazineluiza.com.br/casa-e-jardim/l/cj/'],\n",
       " ['Ferramentas e Segurança',\n",
       "  'http://www.magazineluiza.com.br/ferramentas-e-seguranca/l/fs/'],\n",
       " ['Automotivo', 'http://www.magazineluiza.com.br/automotivo/l/au/'],\n",
       " ['Telefonia Fixa', 'http://www.magazineluiza.com.br/telefonia-fixa/l/tf/'],\n",
       " ['Mercado', 'http://www.magazineluiza.com.br/mercado/l/me/'],\n",
       " ['Bebidas e Alimentos',\n",
       "  'http://www.magazineluiza.com.br/bebidas-e-alimentos/l/ba/'],\n",
       " ['Instrumentos Musicais',\n",
       "  'http://www.magazineluiza.com.br/instrumentos-musicais/l/im/'],\n",
       " ['Pet Shop', 'http://www.magazineluiza.com.br/pet-shop/l/pe/'],\n",
       " ['Livros', 'http://www.magazineluiza.com.br/livros/l/li/'],\n",
       " ['Papelaria', 'http://www.magazineluiza.com.br/papelaria/l/pa/'],\n",
       " ['Armarinhos', 'http://www.magazineluiza.com.br/armarinhos/l/am/']]"
      ]
     },
     "execution_count": 84,
     "metadata": {},
     "output_type": "execute_result"
    }
   ],
   "source": [
    "link =parsed_page_home.find_all('a',class_=\"title-menu-header \" )\n",
    "link\n",
    "list_of_categorias=[]\n",
    "listOfLinksHOme=[]\n",
    "for i in link:\n",
    "        listOfLinksHOme.append([i.get('title'),'http://www.magazineluiza.com.br'+i.get('href')])\n",
    "        list_of_categorias.append(i.get('title'))\n",
    "listOfLinksHOme"
   ]
  },
  {
   "cell_type": "code",
   "execution_count": 90,
   "metadata": {
    "collapsed": false,
    "deletable": true,
    "editable": true
   },
   "outputs": [],
   "source": [
    "dict_of_links={}\n",
    "for e in listOfLinksHOme:\n",
    "    url=e[1]\n",
    "    headers = {\"User-Agent\":\"Mozilla/5.0\"}\n",
    "    response = rq.get(url, headers=headers)\n",
    "    parsed_page = BeautifulSoup(response.text,\"html.parser\")\n",
    "    if parsed_page.find('ul', class_='container-menu-side block-line-menu-left') != None:\n",
    "        link2 = parsed_page.find_all('li',class_='line-product')\n",
    "\n",
    "    for i in link2:\n",
    "        #\n",
    "        if i.find('a') != None and not i.find('a').text in listOfLinksHOme:\n",
    "            if e[0] in dict_of_links:\n",
    "                dict_of_links[e[0]].append('http://www.magazineluiza.com.br'+i.find('a').get('href'))\n",
    "            else:\n",
    "                dict_of_links[e[0]]=['http://www.magazineluiza.com.br'+i.find('a').get('href')]"
   ]
  },
  {
   "cell_type": "code",
   "execution_count": 95,
   "metadata": {
    "collapsed": false,
    "deletable": true,
    "editable": true
   },
   "outputs": [
    {
     "name": "stdout",
     "output_type": "stream",
     "text": [
      "dict_values([['http://www.magazineluiza.com.br/colchoes/l/co/', 'http://www.magazineluiza.com.br/cama-box/colchoes/s/co/cmbx/', 'http://www.magazineluiza.com.br/box-para-colchao/colchoes/s/co/cbcc/', 'http://www.magazineluiza.com.br/cabeceira-para-cama-box/colchoes/s/co/ccce/', 'http://www.magazineluiza.com.br/moveis-para-quarto/moveis-e-decoracao/s/mo/mcqa/', 'http://www.magazineluiza.com.br/moveis-para-quarto-do-bebe/moveis-e-decoracao/s/mo/mpqb/', 'http://www.magazineluiza.com.br/moveis-infanto-juvenil/moveis-e-decoracao/s/mo/mifj/', 'http://www.magazineluiza.com.br/moveis-para-sala-de-estar/moveis-e-decoracao/s/mo/msal/', 'http://www.magazineluiza.com.br/moveis-para-salas-de-jantar/moveis-e-decoracao/s/mo/saja/', 'http://www.magazineluiza.com.br/moveis-para-cozinha/moveis-e-decoracao/s/mo/mcoz/', 'http://www.magazineluiza.com.br/moveis-para-lavanderia/moveis-e-decoracao/s/mo/moas/', 'http://www.magazineluiza.com.br/moveis-para-banheiro/moveis-e-decoracao/s/mo/momb/', 'http://www.magazineluiza.com.br/moveis-para-escritorio/moveis-e-decoracao/s/mo/mole/', 'http://www.magazineluiza.com.br/moveis-decorativos/moveis-e-decoracao/s/mo/mdco/', 'http://www.magazineluiza.com.br/moveis-para-jardim-e-area-externa/moveis-e-decoracao/s/mo/moal/', 'http://www.magazineluiza.com.br/moveis-para-salao-de-beleza/beleza-e-saude/s/cp/acsa/'], ['http://www.magazineluiza.com.br/brinquedos-para-meninas/brinquedos/s/br/bria/', 'http://www.magazineluiza.com.br/brinquedos-para-meninos/brinquedos/s/br/brio/', 'http://www.magazineluiza.com.br/brinquedos-para-bebe/brinquedos/s/br/bbpb/', 'http://www.magazineluiza.com.br/brinquedos-educativos/brinquedos/s/br/jomo/', 'http://www.magazineluiza.com.br/bonecas/brinquedos/s/br/bnca/', 'http://www.magazineluiza.com.br/bonecos/brinquedos/s/br/bnco/', 'http://www.magazineluiza.com.br/mini-veiculos/brinquedos/s/br/bmvt/', 'http://www.magazineluiza.com.br/carrinhos/brinquedos/s/br/bcro/', 'http://www.magazineluiza.com.br/brincadeiras/brinquedos/s/br/brin/', 'http://www.magazineluiza.com.br/pelucias/brinquedos/s/br/bbpl/', 'http://www.magazineluiza.com.br/blocos-de-montar/brinquedos/s/br/brbl/', 'http://www.magazineluiza.com.br/jogos/brinquedos/s/br/jogo/', 'http://www.magazineluiza.com.br/tablet-infantil/brinquedos/s/br/lapt/', 'http://www.magazineluiza.com.br/brinquedos-eletronicos/brinquedos/s/br/brto/', 'http://www.magazineluiza.com.br/esporte/brinquedos/s/br/bete/', 'http://www.magazineluiza.com.br/playground/brinquedos/s/br/play/', 'http://www.magazineluiza.com.br/fantasias/brinquedos/s/br/tasi/', 'http://www.magazineluiza.com.br/maquiagem-infantil/brinquedos/s/br/bmaq/', 'http://www.magazineluiza.com.br/instrumentos-musicais/brinquedos/s/br/inst/'], ['http://www.magazineluiza.com.br/kit-promocional-de-cameba/cama-mesa-e-banho/s/cm/cmkp/', 'http://www.magazineluiza.com.br/cama/cama-mesa-e-banho/s/cm/ctam/', 'http://www.magazineluiza.com.br/mesa/cama-mesa-e-banho/s/cm/ctms/', 'http://www.magazineluiza.com.br/banho/cama-mesa-e-banho/s/cm/ctbh/', 'http://www.magazineluiza.com.br/pantufa/cama-mesa-e-banho/s/cm/cmbp/', 'http://www.magazineluiza.com.br/cortinas/cama-mesa-e-banho/s/cm/cmco/', 'http://www.magazineluiza.com.br/kits-de-varoes-para-cortina/cama-mesa-e-banho/s/cm/kiva/', 'http://www.magazineluiza.com.br/acessorios-para-cortina/cama-mesa-e-banho/s/cm/cmac/', 'http://www.magazineluiza.com.br/tapetes/cama-mesa-e-banho/s/cm/ctap/', 'http://www.magazineluiza.com.br/almofada-e-capa/cama-mesa-e-banho/s/cm/ctal/', 'http://www.magazineluiza.com.br/capa-para-sofa/cama-mesa-e-banho/s/cm/ctpa/'], ['http://www.magazineluiza.com.br/produtos-para-cachorro/pet-shop/s/pe/pech/', 'http://www.magazineluiza.com.br/produtos-para-gato/pet-shop/s/pe/pgat/', 'http://www.magazineluiza.com.br/produtos-para-organizacao-e-limpeza-da-casa/pet-shop/s/pe/porg/', 'http://www.magazineluiza.com.br/produtos-para-aves/pet-shop/s/pe/pave/', 'http://www.magazineluiza.com.br/produtos-para-peixes/pet-shop/s/pe/ppex/', 'http://www.magazineluiza.com.br/produtos-para-roedores/pet-shop/s/pe/proe/', 'http://www.magazineluiza.com.br/produtos-para-repteis/pet-shop/s/pe/prep/', 'http://www.magazineluiza.com.br/produto-veterinario/pet-shop/s/pe/vetn/'], ['http://www.magazineluiza.com.br/produtos-para-passeio-com-o-bebe/bebe/s/bb/carr/', 'http://www.magazineluiza.com.br/fralda/bebe/s/bb/befr/', 'http://www.magazineluiza.com.br/lenco-umedecido/bebe/s/bb/belu/', 'http://www.magazineluiza.com.br/pomadas/bebe/s/bb/poma/', 'http://www.magazineluiza.com.br/kit-de-fralda/bebe/s/bb/kifr/', 'http://www.magazineluiza.com.br/produtos-para-seguranca-do-bebe/bebe/s/bb/beps/', 'http://www.magazineluiza.com.br/higiene-e-saude/bebe/s/bb/behs/', 'http://www.magazineluiza.com.br/perfumes-infantis/perfumaria/s/pf/pfpn/', 'http://www.magazineluiza.com.br/produtos-para-alimentacao-do-bebe/bebe/s/bb/bepa/', 'http://www.magazineluiza.com.br/desenvolvimento-e-diversao-do-bebe/bebe/s/bb/bbfp/', 'http://www.magazineluiza.com.br/mochila-e-lancheira/bebe/s/bb/bbml/', 'http://www.magazineluiza.com.br/produtos-para-o-quarto-do-bebe/bebe/s/bb/bepp/', 'http://www.magazineluiza.com.br/moveis-para-quarto-de-bebe/bebe/s/bb/comd/', 'http://www.magazineluiza.com.br/enxoval-e-bercario-para-bebe/bebe/s/bb/bbro/', 'http://www.magazineluiza.com.br/roupa-de-bebe/bebe/s/bb/rdbb/', 'http://www.magazineluiza.com.br/calcados-para-bebe/bebe/s/bb/ccpb/', 'http://www.magazineluiza.com.br/acessorios-de-bebe/bebe/s/bb/acdk/', 'http://www.magazineluiza.com.br/acessorios-para-mamae/bebe/s/bb/acpm/'], ['http://www.magazineluiza.com.br/acessorios-de-tecnologia/l/ia/', 'http://www.magazineluiza.com.br/notebook/informatica/s/in/note/', 'http://www.magazineluiza.com.br/computador-all-in-one/informatica/s/in/inao/', 'http://www.magazineluiza.com.br/computador/informatica/s/in/micr/', 'http://www.magazineluiza.com.br/servidor-torre/informatica/s/in/svto/', 'http://www.magazineluiza.com.br/monitor/informatica/s/in/mlcd/', 'http://www.magazineluiza.com.br/software/acessorios-de-tecnologia/s/ia/iast/', 'http://www.magazineluiza.com.br/produtos-e-acessorios-apple/informatica/s/in/ifap/', 'http://www.magazineluiza.com.br/impressora-multifuncional/acessorios-de-tecnologia/s/ia/iass/', 'http://www.magazineluiza.com.br/impressoras/acessorios-de-tecnologia/s/ia/iaim/', 'http://www.magazineluiza.com.br/scanners/acessorios-de-tecnologia/s/ia/iasc/', 'http://www.magazineluiza.com.br/cartuchos/acessorios-de-tecnologia/s/ia/iact/', 'http://www.magazineluiza.com.br/toners/acessorios-de-tecnologia/s/ia/iatn/', 'http://www.magazineluiza.com.br/roteador/acessorios-de-tecnologia/s/ia/iarr/', 'http://www.magazineluiza.com.br/-/acessorios-de-tecnologia/s/ia/iacz/', 'http://www.magazineluiza.com.br/placa-mae/acessorios-de-tecnologia/s/ia/iapr/', 'http://www.magazineluiza.com.br/projetor-data-show/tv-e-video/s/et/eapj/', 'http://www.magazineluiza.com.br/mesa-digitalizadora/acessorios-de-tecnologia/s/ia/mdgi/', 'http://www.magazineluiza.com.br/energia/acessorios-de-tecnologia/s/ia/iaen/', 'http://www.magazineluiza.com.br/tablets/l/tb/', 'http://www.magazineluiza.com.br/kindle-e-readers/tablets/s/tb/kind/', 'http://www.magazineluiza.com.br/games/l/ga/'], ['http://www.magazineluiza.com.br/eletroportateis-para-cozinha/eletroportateis/s/ep/elco/', 'http://www.magazineluiza.com.br/eletroportateis-criativos/eletroportateis/s/ep/fdce/', 'http://www.magazineluiza.com.br/eletroportateis-para-casa/eletroportateis/s/ep/elca/'], ['http://www.magazineluiza.com.br/home-theater/audio/s/ea/eaht/', 'http://www.magazineluiza.com.br/soundbar/audio/s/ea/sdbr/', 'http://www.magazineluiza.com.br/receiver/audio/s/ea/mmrb/', 'http://www.magazineluiza.com.br/caixa-de-som-som-portatil/audio/s/ea/aucx/', 'http://www.magazineluiza.com.br/mini-system/audio/s/ea/eami/', 'http://www.magazineluiza.com.br/micro-system/audio/s/ea/eamc/', 'http://www.magazineluiza.com.br/som-portatil/audio/s/ea/easm/', 'http://www.magazineluiza.com.br/linha-premium-de-audio/audio/s/ea/lprm/', 'http://www.magazineluiza.com.br/amplificador/audio/s/ea/plif/', 'http://www.magazineluiza.com.br/radio-relogio/audio/s/ea/eara/', 'http://www.magazineluiza.com.br/vitrola-e-toca-disco/audio/s/ea/auvt/', 'http://www.magazineluiza.com.br/fone-de-ouvido/audio/s/ea/eafn/', 'http://www.magazineluiza.com.br/ipod/audio/s/ea/eapo/', 'http://www.magazineluiza.com.br/mp3-e-mp4-players/audio/s/ea/eamp/', 'http://www.magazineluiza.com.br/automotivo/l/au/', 'http://www.magazineluiza.com.br/instrumentos-musicais/l/im/'], ['http://www.magazineluiza.com.br/escadas/ferramentas-e-seguranca/s/fs/fesc/', 'http://www.magazineluiza.com.br/ferramentas/ferramentas-e-seguranca/s/fs/femt/', 'http://www.magazineluiza.com.br/fixadores/ferramentas-e-seguranca/s/fs/fixd/', 'http://www.magazineluiza.com.br/ferramentas-eletricas/ferramentas-e-seguranca/s/fs/frlt/', 'http://www.magazineluiza.com.br/organizador-para-ferramenta/ferramentas-e-seguranca/s/fs/forg/', 'http://www.magazineluiza.com.br/equipamentos-e-acessorios-para-seguranca/ferramentas-e-seguranca/s/fs/segu/', 'http://www.magazineluiza.com.br/equipamento-de-seguranca/ferramentas-e-seguranca/s/fs/eqpi/'], ['http://www.magazineluiza.com.br/artigos-para-festa/armarinhos/s/am/fsta/', 'http://www.magazineluiza.com.br/lembrancinhas-de-festa/armarinhos/s/am/lmci/', 'http://www.magazineluiza.com.br/produtos-para-confeitaria/armarinhos/s/am/cntr/'], ['http://www.magazineluiza.com.br/gopro/cameras-e-filmadoras/s/cf/gopr/', 'http://www.magazineluiza.com.br/cameras-digitais/cameras-e-filmadoras/s/cf/dicm/', 'http://www.magazineluiza.com.br/cameras-instantaneas/cameras-e-filmadoras/s/cf/cint/', 'http://www.magazineluiza.com.br/camera-instax/cameras-e-filmadoras/s/cf/itax/', 'http://www.magazineluiza.com.br/cameras-e-filmadoras/cameras-e-filmadoras/s/cf/filc/', 'http://www.magazineluiza.com.br/acessorios-de-cine-e-foto/cameras-e-filmadoras/s/cf/cfac/', 'http://www.magazineluiza.com.br/telescopio-e-luneta/cameras-e-filmadoras/s/cf/cfll/', 'http://www.magazineluiza.com.br/binoculos/cameras-e-filmadoras/s/cf/cfbi/', 'http://www.magazineluiza.com.br/drone-com-camera/cameras-e-filmadoras/s/cf/drcm/', 'http://www.magazineluiza.com.br/camera-de-seguranca/ferramentas-e-seguranca/s/fs/scms/', 'http://www.magazineluiza.com.br/revelacao-de-fotos/cameras-e-filmadoras/s/cf/reve/'], ['http://www.magazineluiza.com.br/livros/l/li/', 'http://www.magazineluiza.com.br/acessorios-de-papelaria/papelaria/s/pa/pccs/', 'http://www.magazineluiza.com.br/revelacao-de-fotos/cameras-e-filmadoras/s/cf/reve/'], ['http://www.magazineluiza.com.br/geladeira-refrigerador/eletrodomesticos/s/ed/refr/', 'http://www.magazineluiza.com.br/freezer/eletrodomesticos/s/ed/free/', 'http://www.magazineluiza.com.br/fogao/eletrodomesticos/s/ed/fogo/', 'http://www.magazineluiza.com.br/forno/eletrodomesticos/s/ed/forn/', 'http://www.magazineluiza.com.br/cooktop/eletrodomesticos/s/ed/cook/', 'http://www.magazineluiza.com.br/coifa/eletrodomesticos/s/ed/cofa/', 'http://www.magazineluiza.com.br/depuradores-de-ar/eletrodomesticos/s/ed/depu/', 'http://www.magazineluiza.com.br/micro-ondas/eletrodomesticos/s/ed/mond/', 'http://www.magazineluiza.com.br/lava-loucas/eletrodomesticos/s/ed/lalo/', 'http://www.magazineluiza.com.br/trituradores-de-alimentos/eletrodomesticos/s/ed/trua/', 'http://www.magazineluiza.com.br/maquina-de-lavar/eletrodomesticos/s/ed/lava/', 'http://www.magazineluiza.com.br/lavadora-de-roupas-lava-e-seca/eletrodomesticos/s/ed/ela1/', 'http://www.magazineluiza.com.br/pedestal-para-lava-e-seca/eletrodomesticos/s/ed/pels/', 'http://www.magazineluiza.com.br/tanquinho/eletrodomesticos/s/ed/tank/', 'http://www.magazineluiza.com.br/centrifuga-de-roupas/eletrodomesticos/s/ed/crou/', 'http://www.magazineluiza.com.br/secadora-de-roupa/eletrodomesticos/s/ed/selt/', 'http://www.magazineluiza.com.br/maquinas-de-costura/eletrodomesticos/s/ed/mcel/', 'http://www.magazineluiza.com.br/purificador-de-agua/eletrodomesticos/s/ed/puel/', 'http://www.magazineluiza.com.br/refil-para-purificador-de-agua/eletrodomesticos/s/ed/refp/', 'http://www.magazineluiza.com.br/bebedouro/eletrodomesticos/s/ed/belt/', 'http://www.magazineluiza.com.br/adega/eletrodomesticos/s/ed/adeg/', 'http://www.magazineluiza.com.br/maquinas-de-gelo/eletrodomesticos/s/ed/mage/', 'http://www.magazineluiza.com.br/linha-industrial/l/pi/'], ['http://www.magazineluiza.com.br/acessorios-de-moda/relogios/s/re/mdac/', 'http://www.magazineluiza.com.br/monitores-cardiacos/esporte-e-lazer/s/es/moca/', 'http://www.magazineluiza.com.br/radio-relogio/relogios/s/re/rrrr/', 'http://www.magazineluiza.com.br/kits-promocionais-de-relogios-e-acessorios/relogios/s/re/kpre/'], ['http://www.magazineluiza.com.br/produtos-para-emagrecimento/suplementos-alimentares/s/sa/sape/', 'http://www.magazineluiza.com.br/produtos-para-massa-muscular/suplementos-alimentares/s/sa/samm/', 'http://www.magazineluiza.com.br/produtos-para-energia/suplementos-alimentares/s/sa/sugi/', 'http://www.magazineluiza.com.br/fitoterapicos-e-vitaminas/suplementos-alimentares/s/sa/safv/', 'http://www.magazineluiza.com.br/complementos-alimentares/suplementos-alimentares/s/sa/sucp/', 'http://www.magazineluiza.com.br/snack-e-alimento-proteico/suplementos-alimentares/s/sa/susn/', 'http://www.magazineluiza.com.br/artigos-para-esporte/suplementos-alimentares/s/sa/saae/'], ['http://www.magazineluiza.com.br/equipamento-para-dj/instrumentos-musicais/s/im/imdj/', 'http://www.magazineluiza.com.br/instrumentos-musicais-infantis/instrumentos-musicais/s/im/ilin/', 'http://www.magazineluiza.com.br/kit-promocional-de-instrumentos/instrumentos-musicais/s/im/imkp/', 'http://www.magazineluiza.com.br/instrumentos-de-cordas/instrumentos-musicais/s/im/iico/', 'http://www.magazineluiza.com.br/instrumentos-de-teclas/instrumentos-musicais/s/im/iipt/', 'http://www.magazineluiza.com.br/afinador/instrumentos-musicais/s/im/afnd/', 'http://www.magazineluiza.com.br/instrumentos-de-percussao/instrumentos-musicais/s/im/iipe/', 'http://www.magazineluiza.com.br/equipamento-para-audio/instrumentos-musicais/s/im/imea/', 'http://www.magazineluiza.com.br/instrumentos-de-sopro/instrumentos-musicais/s/im/iiso/', 'http://www.magazineluiza.com.br/acessorios-instrumentos-musicais/instrumentos-musicais/s/im/iace/'], ['http://www.magazineluiza.com.br/telefone-sem-fio/telefonia-fixa/s/tf/tfts/', 'http://www.magazineluiza.com.br/telefone-com-fio/telefonia-fixa/s/tf/tfto/', 'http://www.magazineluiza.com.br/ramais/telefonia-fixa/s/tf/tfra/', 'http://www.magazineluiza.com.br/radio-e-walk-talk/telefonia-fixa/s/tf/tfrw/', 'http://www.magazineluiza.com.br/telefonia-corporativa/telefonia-fixa/s/tf/tcor/', 'http://www.magazineluiza.com.br/celular-fixo/telefonia-fixa/s/tf/cfxx/', 'http://www.magazineluiza.com.br/telefones-design/telefonia-fixa/s/tf/tfdn/', 'http://www.magazineluiza.com.br/suprimentos-para-telefonia/telefonia-fixa/s/tf/tfst/'], ['http://www.magazineluiza.com.br/wearables/celulares-e-smartphones/s/te/tewe/', 'http://www.magazineluiza.com.br/acessorios-de-armazenamento/acessorios-de-tecnologia/s/ia/inaz/', 'http://www.magazineluiza.com.br/capas-para-kindle/tablets/s/tb/ackd/'], ['http://www.magazineluiza.com.br/kits-de-pneus/automotivo/s/au/kpne/', 'http://www.magazineluiza.com.br/pneus-para-carro/automotivo/s/au/aupa/', 'http://www.magazineluiza.com.br/rodas-para-carro/automotivo/s/au/aurd/', 'http://www.magazineluiza.com.br/som-automotivo/automotivo/s/au/esm3/', 'http://www.magazineluiza.com.br/dvd-player-automotivo/automotivo/s/au/esdc/', 'http://www.magazineluiza.com.br/central-multimidia/automotivo/s/au/aucm/', 'http://www.magazineluiza.com.br/alto-falante/automotivo/s/au/esaf/', 'http://www.magazineluiza.com.br/subwoofer/automotivo/s/au/essw/', 'http://www.magazineluiza.com.br/woofer/automotivo/s/au/wufr/', 'http://www.magazineluiza.com.br/driver-e-tweeter/automotivo/s/au/adet/', 'http://www.magazineluiza.com.br/gps-automotivo/automotivo/s/au/gpsi/', 'http://www.magazineluiza.com.br/racks-e-suportes-para-carro/automotivo/s/au/rksu/', 'http://www.magazineluiza.com.br/acessorios-e-equipamentos-para-carro/automotivo/s/au/aepc/', 'http://www.magazineluiza.com.br/produtos-para-moto/automotivo/s/au/aumo/', 'http://www.magazineluiza.com.br/acessorios-para-onibus-e-caminhoes/automotivo/s/au/apbs/', 'http://www.magazineluiza.com.br/produtos-para-limpeza-automotiva/automotivo/s/au/plau/', 'http://www.magazineluiza.com.br/produtos-para-polimento-automotivo/automotivo/s/au/poau/', 'http://www.magazineluiza.com.br/produtos-para-passeio-com-o-bebe/bebe/s/bb/carr/'], ['http://www.magazineluiza.com.br/perfumes-importados/perfumaria/s/pf/pfpi/', 'http://www.magazineluiza.com.br/maquiagem/perfumaria/s/pf/pfma/', 'http://www.magazineluiza.com.br/produtos-para-o-cabelo/perfumaria/s/pf/pfpo/', 'http://www.magazineluiza.com.br/linha-profissional-para-o-cabelo/perfumaria/s/pf/pelp/', 'http://www.magazineluiza.com.br/coloracao-e-tintura-para-cabelo/perfumaria/s/pf/cltn/', 'http://www.magazineluiza.com.br/tratamento-corpo-rosto-olhos-lab/perfumaria/s/pf/pfro/', 'http://www.magazineluiza.com.br/produtos-para-uso-no-sol/perfumaria/s/pf/pfus/', 'http://www.magazineluiza.com.br/nutricosmeticos/perfumaria/s/pf/pfnu/', 'http://www.magazineluiza.com.br/produtos-de-higiene-pessoal/perfumaria/s/pf/pfhg/', 'http://www.magazineluiza.com.br/produtos-para-o-corpo-e-banho/perfumaria/s/pf/pfcb/', 'http://www.magazineluiza.com.br/repelente/perfumaria/s/pf/rplt/', 'http://www.magazineluiza.com.br/produtos-para-depilacao/perfumaria/s/pf/pdep/', 'http://www.magazineluiza.com.br/outros-produtos-de-maquiagem-e-cosmeticos/perfumaria/s/pf/peou/', 'http://www.magazineluiza.com.br/kits-promocionais-de-perfumaria/perfumaria/s/pf/pfkt/'], ['http://www.magazineluiza.com.br/kindle-e-readers/tablets/s/tb/kind/', 'http://www.magazineluiza.com.br/tablets/tablets/s/tb/tbtm/', 'http://www.magazineluiza.com.br/acessorios-para-tablet/tablets/s/tb/tbac/', 'http://www.magazineluiza.com.br/chromecast/tv-e-video/s/et/aple/', 'http://www.magazineluiza.com.br/notebook/informatica/s/in/note/'], ['http://www.magazineluiza.com.br/tv-led-plasma-lcd-e-outras/tv-e-video/s/et/peco/', 'http://www.magazineluiza.com.br/dvd-player/tv-e-video/s/et/tvdb/', 'http://www.magazineluiza.com.br/home-theater/audio/s/ea/eaht/', 'http://www.magazineluiza.com.br/soundbar/audio/s/ea/sdbr/', 'http://www.magazineluiza.com.br/streaming/tv-e-video/s/et/strm/', 'http://www.magazineluiza.com.br/projetor-data-show/tv-e-video/s/et/eapj/', 'http://www.magazineluiza.com.br/mini-system/audio/s/ea/eami/', 'http://www.magazineluiza.com.br/caixa-de-som-som-portatil/audio/s/ea/aucx/', 'http://www.magazineluiza.com.br/vitrola-e-toca-disco/audio/s/ea/auvt/', 'http://www.magazineluiza.com.br/acessorios/tv-e-video/s/et/eace/', 'http://www.magazineluiza.com.br/games/l/ga/'], ['http://www.magazineluiza.com.br/colchao/colchoes/s/co/cooo/', 'http://www.magazineluiza.com.br/cama-box/colchoes/s/co/cmbx/', 'http://www.magazineluiza.com.br/box-para-colchao/colchoes/s/co/cbcc/', 'http://www.magazineluiza.com.br/cabeceira-para-cama-box/colchoes/s/co/ccce/', 'http://www.magazineluiza.com.br/divas-e-recamiers/moveis-para-quarto/moveis-e-decoracao/s/mo/dvrm/mcqa/', 'http://www.magazineluiza.com.br/linha-de-box-e-colchoes-hotel/colchoes/s/co/lhtl/'], ['http://www.magazineluiza.com.br/lavadora-de-alta-pressao/casa-e-jardim/s/cj/cjla/', 'http://www.magazineluiza.com.br/churrasqueiras-e-assadores/casa-e-jardim/s/cj/cjch/', 'http://www.magazineluiza.com.br/lareira-e-calefator/casa-e-jardim/s/cj/larc/', 'http://www.magazineluiza.com.br/iluminacao-para-casa/casa-e-jardim/s/cj/pilu/', 'http://www.magazineluiza.com.br/gerador-de-energia/casa-e-jardim/s/cj/cjge/', 'http://www.magazineluiza.com.br/aquecedor-de-agua/casa-e-jardim/s/cj/cjqs/', 'http://www.magazineluiza.com.br/trituradores-de-alimentos/eletrodomesticos/s/ed/trua/', 'http://www.magazineluiza.com.br/pressurizador-de-agua/casa-e-jardim/s/cj/cjpa/', 'http://www.magazineluiza.com.br/cubas-para-pia/casa-e-jardim/s/cj/cjcu/', 'http://www.magazineluiza.com.br/repelente-eletronico/casa-e-jardim/s/cj/repe/', 'http://www.magazineluiza.com.br/produtos-para-jardinagem/casa-e-jardim/s/cj/cjja/', 'http://www.magazineluiza.com.br/horta-jardim-vertical/casa-e-jardim/s/cj/hrta/', 'http://www.magazineluiza.com.br/produtos-de-agricultura/casa-e-jardim/s/cj/pagr/', 'http://www.magazineluiza.com.br/moveis-para-jardim/casa-e-jardim/s/cj/cjmj/', 'http://www.magazineluiza.com.br/playground/brinquedos/s/br/play/', 'http://www.magazineluiza.com.br/linha-bar/casa-e-jardim/s/cj/cjlb/', 'http://www.magazineluiza.com.br/papel-de-parede-e-adesivo/utilidades-domesticas/s/ud/adpa/', 'http://www.magazineluiza.com.br/produto-para-construcao-e-acabamento/casa-e-jardim/s/cj/cstc/', 'http://www.magazineluiza.com.br/construcao-e-acabamento-para-banheiro/casa-e-jardim/s/cj/banh/', 'http://www.magazineluiza.com.br/equipamento-para-piscina/casa-e-jardim/s/cj/epsc/', 'http://www.magazineluiza.com.br/equipamento-para-sauna/casa-e-jardim/s/cj/esun/', 'http://www.magazineluiza.com.br/spa-de-hidromassagem-e-ofuro/casa-e-jardim/s/cj/spas/', 'http://www.magazineluiza.com.br/deck/casa-e-jardim/s/cj/deck/', 'http://www.magazineluiza.com.br/piso-e-revestimento/casa-e-jardim/s/cj/pire/', 'http://www.magazineluiza.com.br/material-hidraulico/casa-e-jardim/s/cj/hidr/', 'http://www.magazineluiza.com.br/tanque-de-lavar-roupa/casa-e-jardim/s/cj/tnqe/', 'http://www.magazineluiza.com.br/acessorio-eletrico/casa-e-jardim/s/cj/eltr/', 'http://www.magazineluiza.com.br/portas-e-janelas/casa-e-jardim/s/cj/prtj/', 'http://www.magazineluiza.com.br/acessorio-para-pintura/casa-e-jardim/s/cj/pnna/', 'http://www.magazineluiza.com.br/acessorio-para-sinalizacao/casa-e-jardim/s/cj/sina/', 'http://www.magazineluiza.com.br/cadeado-e-corrente/casa-e-jardim/s/cj/cdco/', 'http://www.magazineluiza.com.br/caixa-de-correspondencia/casa-e-jardim/s/cj/cxca/'], ['http://www.magazineluiza.com.br/produtos-de-refrigeracao-industrial/linha-industrial/s/pi/rein/', 'http://www.magazineluiza.com.br/expositores-refrigerados/linha-industrial/s/pi/exre/', 'http://www.magazineluiza.com.br/freezers-industriais/linha-industrial/s/pi/frid/', 'http://www.magazineluiza.com.br/camara-fria/linha-industrial/s/pi/cafr/', 'http://www.magazineluiza.com.br/maquina-de-gelo/linha-industrial/s/pi/mdgl/', 'http://www.magazineluiza.com.br/vitrines-refrigeradas/linha-industrial/s/pi/vtrg/', 'http://www.magazineluiza.com.br/adegas/linha-industrial/s/pi/adin/', 'http://www.magazineluiza.com.br/produtos-para-cozinha-industrial/linha-industrial/s/pi/czin/', 'http://www.magazineluiza.com.br/pia-industrial/linha-industrial/s/pi/pind/', 'http://www.magazineluiza.com.br/eletroportateis-industriais/linha-industrial/s/pi/prti/', 'http://www.magazineluiza.com.br/estufas/linha-industrial/s/pi/etin/', 'http://www.magazineluiza.com.br/camara-de-fermentacao/linha-industrial/s/pi/cmfr/', 'http://www.magazineluiza.com.br/carrinhos-ambulantes/linha-industrial/s/pi/cram/', 'http://www.magazineluiza.com.br/balcao-vitrine-industrial/linha-industrial/s/pi/bvtr/', 'http://www.magazineluiza.com.br/movel-para-comercio/linha-industrial/s/pi/mvcm/', 'http://www.magazineluiza.com.br/acessorios-industriais/linha-industrial/s/pi/acid/', 'http://www.magazineluiza.com.br/utensilios-para-bebida/linha-industrial/s/pi/upbb/', 'http://www.magazineluiza.com.br/exaustores-industriais/linha-industrial/s/pi/exin/', 'http://www.magazineluiza.com.br/ventiladores-comerciais-e-industriais/ar-e-ventilacao/s/ar/avci/', 'http://www.magazineluiza.com.br/produtos-para-transfer-e-sublimacao/linha-industrial/s/pi/trfs/', 'http://www.magazineluiza.com.br/produto-descartavel/linha-industrial/s/pi/dsct/', 'http://www.magazineluiza.com.br/produto-de-limpeza-industrial/linha-industrial/s/pi/lpin/', 'http://www.magazineluiza.com.br/maquina-e-ferramenta-para-construcao-civil/linha-industrial/s/pi/mqcc/', 'http://www.magazineluiza.com.br/ferragens-para-construcao/linha-industrial/s/pi/frro/', 'http://www.magazineluiza.com.br/equipamento-para-movimentacao-de-carga/linha-industrial/s/pi/movc/', 'http://www.magazineluiza.com.br/maquina-industrial/linha-industrial/s/pi/mqin/', 'http://www.magazineluiza.com.br/veiculo-eletrico/linha-industrial/s/pi/eqdg/', 'http://www.magazineluiza.com.br/motor-eletrico-a-gasolina-e-a-diesel/linha-industrial/s/pi/megd/', 'http://www.magazineluiza.com.br/prensa-hidraulica/linha-industrial/s/pi/prsh/', 'http://www.magazineluiza.com.br/relogio-de-ponto/linha-industrial/s/pi/atrp/'], ['http://www.magazineluiza.com.br/jogos-em-pre-venda/games/s/ga/jpre/', 'http://www.magazineluiza.com.br/lancamentos/games/s/ga/glan/', 'http://www.magazineluiza.com.br/xbox-one/games/s/ga/gaxo/', 'http://www.magazineluiza.com.br/playstation-4-ps4/games/s/ga/gap4/', 'http://www.magazineluiza.com.br/xbox-360/games/s/ga/gaxb/', 'http://www.magazineluiza.com.br/playstation-3-ps3/games/s/ga/gap3/', 'http://www.magazineluiza.com.br/playstation-2-ps2/games/s/ga/gap2/', 'http://www.magazineluiza.com.br/psp-e-ps-vita/games/s/ga/gppp/', 'http://www.magazineluiza.com.br/nintendo-switch/games/s/ga/gans/', 'http://www.magazineluiza.com.br/nintendo-wii-e-wii-u/games/s/ga/gawi/', 'http://www.magazineluiza.com.br/nintendo-ds-e-3ds/games/s/ga/gads/', 'http://www.magazineluiza.com.br/jogos/games/s/ga/geim/', 'http://www.magazineluiza.com.br/pc/games/s/ga/gppc/', 'http://www.magazineluiza.com.br/acessorios-geek/games/s/ga/agek/', 'http://www.magazineluiza.com.br/cadeiras-gamers/moveis-e-decoracao/s/mo/mecg/'], ['http://www.magazineluiza.com.br/livro-de-literatura-estrangeira/livros/s/li/letr/', 'http://www.magazineluiza.com.br/livro-de-literatura/livros/s/li/llit/', 'http://www.magazineluiza.com.br/livro-de-colorir/livros/s/li/ldcl/', 'http://www.magazineluiza.com.br/livro-de-autoajuda/livros/s/li/liaj/', 'http://www.magazineluiza.com.br/biografias/livros/s/li/libi/', 'http://www.magazineluiza.com.br/livro-de-arte/livros/s/li/lare/', 'http://www.magazineluiza.com.br/livro-de-culinaria/livros/s/li/culn/', 'http://www.magazineluiza.com.br/livro-de-religiao/livros/s/li/liao/', 'http://www.magazineluiza.com.br/livros-de-educacao-concursos-e-outros/livros/s/li/edcc/', 'http://www.magazineluiza.com.br/livros-de-administracao-negocios-e-economia/livros/s/li/adml/', 'http://www.magazineluiza.com.br/livros-de-medicina-e-saude/livros/s/li/limd/', 'http://www.magazineluiza.com.br/livros-de-engenharia-e-arquitetura/livros/s/li/lbad/', 'http://www.magazineluiza.com.br/livros-de-urbanismo-e-paisagismo/livros/s/li/liur/', 'http://www.magazineluiza.com.br/livro-de-ciencias-sociais/livros/s/li/lira/', 'http://www.magazineluiza.com.br/livro-de-comunicacao/livros/s/li/limm/', 'http://www.magazineluiza.com.br/livro-de-direito/livros/s/li/ldrt/', 'http://www.magazineluiza.com.br/livro-de-astronomia/livros/s/li/litr/', 'http://www.magazineluiza.com.br/livro-de-esoterismo/livros/s/li/leso/', 'http://www.magazineluiza.com.br/livro-de-ciencias-exatas/livros/s/li/liex/', 'http://www.magazineluiza.com.br/livro-sobre-informatica/livros/s/li/lsin/', 'http://www.magazineluiza.com.br/livro-de-criacao-de-animais/livros/s/li/licr/', 'http://www.magazineluiza.com.br/filmes-e-series-em-dvd-e-blu-ray/livros/s/li/flss/', 'http://www.magazineluiza.com.br/musicas-e-shows-em-cds-dvds-blu-ray-e-vinil/livros/s/li/muss/'], ['http://www.magazineluiza.com.br/ar-condicionado/ar-e-ventilacao/s/ar/arar/', 'http://www.magazineluiza.com.br/ventilador/ar-e-ventilacao/s/ar/arvc/', 'http://www.magazineluiza.com.br/climatizador-de-ar/ar-e-ventilacao/s/ar/arcl/', 'http://www.magazineluiza.com.br/circuladores-de-ar/ar-e-ventilacao/s/ar/arci/', 'http://www.magazineluiza.com.br/aquecedores-eletricos-ou-a-oleo/ar-e-ventilacao/s/ar/arel/', 'http://www.magazineluiza.com.br/lareira-e-calefator/casa-e-jardim/s/cj/larc/', 'http://www.magazineluiza.com.br/cortinas-de-ar/ar-e-ventilacao/s/ar/arco/', 'http://www.magazineluiza.com.br/umidificador-de-ar/beleza-e-saude/s/cp/pura/', 'http://www.magazineluiza.com.br/desumidificador-de-ar/beleza-e-saude/s/cp/cpde/', 'http://www.magazineluiza.com.br/purificador-de-ar/beleza-e-saude/s/cp/easr/', 'http://www.magazineluiza.com.br/eletrodomesticos/l/ed/', 'http://www.magazineluiza.com.br/eletroportateis/l/ep/'], ['http://www.magazineluiza.com.br/smartphone/celulares-e-smartphones/s/te/tcsp/', 'http://www.magazineluiza.com.br/quantum-muv/celulares-e-smartphones/s/te/qmuv/', 'http://www.magazineluiza.com.br/wearables/celulares-e-smartphones/s/te/tewe/', 'http://www.magazineluiza.com.br/acessorios-para-celular/celulares-e-smartphones/s/te/tlac/', 'http://www.magazineluiza.com.br/chip-de-celular/celulares-e-smartphones/s/te/chpc/', 'http://www.magazineluiza.com.br/tablets/l/tb/', 'http://www.magazineluiza.com.br/chromecast/tv-e-video/s/et/aple/', 'http://www.magazineluiza.com.br/telefonia-fixa/l/tf/'], ['http://www.magazineluiza.com.br/fitness-e-musculacao/esporte-e-lazer/s/es/elft/', 'http://www.magazineluiza.com.br/corrida-e-running/esporte-e-lazer/s/es/elnn/', 'http://www.magazineluiza.com.br/monitores-cardiacos/esporte-e-lazer/s/es/moca/', 'http://www.magazineluiza.com.br/monitor-de-atividade/esporte-e-lazer/s/es/smbd/', 'http://www.magazineluiza.com.br/bicicletas/esporte-e-lazer/s/es/elbc/', 'http://www.magazineluiza.com.br/praia-e-piscina/esporte-e-lazer/s/es/elpp/', 'http://www.magazineluiza.com.br/skate/esporte-e-lazer/s/es/elsk/', 'http://www.magazineluiza.com.br/cama-elastica/esporte-e-lazer/s/es/cmel/', 'http://www.magazineluiza.com.br/tabela-de-basquete/esporte-e-lazer/s/es/tdbq/', 'http://www.magazineluiza.com.br/produtos-para-slackline/esporte-e-lazer/s/es/slck/', 'http://www.magazineluiza.com.br/mini-veiculos-motorizados/esporte-e-lazer/s/es/emvg/', 'http://www.magazineluiza.com.br/produtos-para-esportes/esporte-e-lazer/s/es/pres/', 'http://www.magazineluiza.com.br/cameras-esportivas/cameras-e-filmadoras/s/cf/cmep/', 'http://www.magazineluiza.com.br/artes-marciais/esporte-e-lazer/s/es/elam/', 'http://www.magazineluiza.com.br/camping/esporte-e-lazer/s/es/elcm/', 'http://www.magazineluiza.com.br/bussolas-e-instrumentos-de-medicao/esporte-e-lazer/s/es/bimd/', 'http://www.magazineluiza.com.br/jogos-de-mesa-e-salao/esporte-e-lazer/s/es/jogs/', 'http://www.magazineluiza.com.br/mochilas-e-malas/esporte-e-lazer/s/es/elmb/', 'http://www.magazineluiza.com.br/fone-de-ouvido/audio/s/ea/eafn/', 'http://www.magazineluiza.com.br/playground/brinquedos/s/br/play/', 'http://www.magazineluiza.com.br/tiros-esportivos/esporte-e-lazer/s/es/esti/', 'http://www.magazineluiza.com.br/produto-para-pesca-esportiva/esporte-e-lazer/s/es/psce/', 'http://www.magazineluiza.com.br/produtos-para-esportes-nauticos/esporte-e-lazer/s/es/eluu/', 'http://www.magazineluiza.com.br/telescopio-e-luneta/cameras-e-filmadoras/s/cf/cfll/', 'http://www.magazineluiza.com.br/vestuario/esporte-e-lazer/s/es/elvc/', 'http://www.magazineluiza.com.br/calcado-militar/esporte-e-lazer/s/es/cmil/'], ['http://www.magazineluiza.com.br/aparelho-de-jantar/utilidades-domesticas/s/ud/apja/', 'http://www.magazineluiza.com.br/panelas/utilidades-domesticas/s/ud/panl/', 'http://www.magazineluiza.com.br/faqueiros/utilidades-domesticas/s/ud/faqu/', 'http://www.magazineluiza.com.br/utensilios-de-cha-e-cafe/utilidades-domesticas/s/ud/udcc/', 'http://www.magazineluiza.com.br/utensilios-de-cozinha/utilidades-domesticas/s/ud/comp/', 'http://www.magazineluiza.com.br/balanca-de-cozinha/utilidades-domesticas/s/ud/blco/', 'http://www.magazineluiza.com.br/utensilios-geek/utilidades-domesticas/s/ud/utlg/', 'http://www.magazineluiza.com.br/formas-e-assadeiras/utilidades-domesticas/s/ud/assa/', 'http://www.magazineluiza.com.br/acessorios-para-servir/utilidades-domesticas/s/ud/udas/', 'http://www.magazineluiza.com.br/fruteira-e-acessorios-de-mesa/utilidades-domesticas/s/ud/acms/', 'http://www.magazineluiza.com.br/conjuntos-de-sobremesa/utilidades-domesticas/s/ud/coso/', 'http://www.magazineluiza.com.br/fondue/utilidades-domesticas/s/ud/sefo/', 'http://www.magazineluiza.com.br/linha-bar/utilidades-domesticas/s/ud/cbar/', 'http://www.magazineluiza.com.br/produtos-de-cristal/utilidades-domesticas/s/ud/udlc/', 'http://www.magazineluiza.com.br/linha-infantil/utilidades-domesticas/s/ud/udlf/', 'http://www.magazineluiza.com.br/produtos-para-limpeza-e-arrumacao/utilidades-domesticas/s/ud/udla/', 'http://www.magazineluiza.com.br/decoracao/utilidades-domesticas/s/ud/udde/', 'http://www.magazineluiza.com.br/organizador-decorativo/utilidades-domesticas/s/ud/orgd/'], ['http://www.magazineluiza.com.br/produtos-de-limpeza/mercado/s/me/prli/', 'http://www.magazineluiza.com.br/papel-higienico/mercado/s/me/pahi/', 'http://www.magazineluiza.com.br/produto-para-higiene-bucal/beleza-e-saude/s/cp/phib/', 'http://www.magazineluiza.com.br/bebe/l/bb/', 'http://www.magazineluiza.com.br/bebidas-e-alimentos/l/ba/'], ['http://www.magazineluiza.com.br/cuidado-com-o-cabelo/beleza-e-saude/s/cp/bskb/', 'http://www.magazineluiza.com.br/cuidados-com-a-pele-e-pelo/beleza-e-saude/s/cp/cdpl/', 'http://www.magazineluiza.com.br/maquiagem/perfumaria/s/pf/pfma/', 'http://www.magazineluiza.com.br/maleta-de-maquiagem/perfumaria/s/pf/pfmm/', 'http://www.magazineluiza.com.br/acessorios-de-maquiagem/beleza-e-saude/s/cp/amcp/', 'http://www.magazineluiza.com.br/perfumaria/l/pf/', 'http://www.magazineluiza.com.br/perfumes-importados-masculinos/perfumaria/s/pf/pfpm/', 'http://www.magazineluiza.com.br/produto-para-higiene-bucal/beleza-e-saude/s/cp/phib/', 'http://www.magazineluiza.com.br/produto-para-higiene-pessoal/beleza-e-saude/s/cp/hips/', 'http://www.magazineluiza.com.br/moveis-para-salao-de-beleza/beleza-e-saude/s/cp/acsa/', 'http://www.magazineluiza.com.br/produtos-para-cuidados-pet/beleza-e-saude/s/cp/fpcp/'], ['http://www.magazineluiza.com.br/ovo-de-pascoa/bebidas-e-alimentos/s/ba/pasc/', 'http://www.magazineluiza.com.br/chocolate/bebidas-e-alimentos/s/ba/choc/', 'http://www.magazineluiza.com.br/cervejas/bebidas-e-alimentos/s/ba/bspl/', 'http://www.magazineluiza.com.br/vinhos/bebidas-e-alimentos/s/ba/wine/', 'http://www.magazineluiza.com.br/espumante/bebidas-e-alimentos/s/ba/spmt/', 'http://www.magazineluiza.com.br/bebida-destilada/bebidas-e-alimentos/s/ba/dltd/', 'http://www.magazineluiza.com.br/capsula-de-cafe/bebidas-e-alimentos/s/ba/cpsc/', 'http://www.magazineluiza.com.br/bebida-nao-alcoolica/bebidas-e-alimentos/s/ba/ntal/', 'http://www.magazineluiza.com.br/alimentos/bebidas-e-alimentos/s/ba/alhr/', 'http://www.magazineluiza.com.br/conjuntos-de-mesa-e-cadeira-para-jardim/casa-e-jardim/s/cj/kmcj/']])\n"
     ]
    }
   ],
   "source": [
    "print(dict_of_links.values())\n",
    "#!mkdir csv\n"
   ]
  },
  {
   "cell_type": "code",
   "execution_count": 66,
   "metadata": {
    "collapsed": false
   },
   "outputs": [],
   "source": [
    "now = datetime.now()\n",
    "data = str(now.day)+'-'+str(now.month)+'-'+str(now.year)\n",
    "!mkdir csv/{data}"
   ]
  },
  {
   "cell_type": "code",
   "execution_count": 81,
   "metadata": {
    "collapsed": false,
    "deletable": true,
    "editable": true
   },
   "outputs": [
    {
     "ename": "KeyboardInterrupt",
     "evalue": "",
     "output_type": "error",
     "traceback": [
      "\u001b[0;31m---------------------------------------------------------------------------\u001b[0m",
      "\u001b[0;31mTypeError\u001b[0m                                 Traceback (most recent call last)",
      "\u001b[0;32m/usr/lib/python3/dist-packages/urllib3/connectionpool.py\u001b[0m in \u001b[0;36m_make_request\u001b[0;34m(self, conn, method, url, timeout, **httplib_request_kw)\u001b[0m\n\u001b[1;32m    376\u001b[0m             \u001b[0;32mtry\u001b[0m\u001b[0;34m:\u001b[0m  \u001b[0;31m# Python 2.7, use buffering of HTTP responses\u001b[0m\u001b[0;34m\u001b[0m\u001b[0m\n\u001b[0;32m--> 377\u001b[0;31m                 \u001b[0mhttplib_response\u001b[0m \u001b[0;34m=\u001b[0m \u001b[0mconn\u001b[0m\u001b[0;34m.\u001b[0m\u001b[0mgetresponse\u001b[0m\u001b[0;34m(\u001b[0m\u001b[0mbuffering\u001b[0m\u001b[0;34m=\u001b[0m\u001b[0;32mTrue\u001b[0m\u001b[0;34m)\u001b[0m\u001b[0;34m\u001b[0m\u001b[0m\n\u001b[0m\u001b[1;32m    378\u001b[0m             \u001b[0;32mexcept\u001b[0m \u001b[0mTypeError\u001b[0m\u001b[0;34m:\u001b[0m  \u001b[0;31m# Python 2.6 and older\u001b[0m\u001b[0;34m\u001b[0m\u001b[0m\n",
      "\u001b[0;31mTypeError\u001b[0m: getresponse() got an unexpected keyword argument 'buffering'",
      "\nDuring handling of the above exception, another exception occurred:\n",
      "\u001b[0;31mKeyboardInterrupt\u001b[0m                         Traceback (most recent call last)",
      "\u001b[0;32m<ipython-input-81-615e3e865720>\u001b[0m in \u001b[0;36m<module>\u001b[0;34m()\u001b[0m\n\u001b[1;32m      4\u001b[0m         \u001b[0murl\u001b[0m\u001b[0;34m=\u001b[0m\u001b[0mb\u001b[0m\u001b[0;34m\u001b[0m\u001b[0m\n\u001b[1;32m      5\u001b[0m         \u001b[0mheaders\u001b[0m \u001b[0;34m=\u001b[0m \u001b[0;34m{\u001b[0m\u001b[0;34m\"User-Agent\"\u001b[0m\u001b[0;34m:\u001b[0m\u001b[0;34m\"Mozilla/5.0\"\u001b[0m\u001b[0;34m}\u001b[0m\u001b[0;34m\u001b[0m\u001b[0m\n\u001b[0;32m----> 6\u001b[0;31m         \u001b[0mresponse\u001b[0m \u001b[0;34m=\u001b[0m \u001b[0mrq\u001b[0m\u001b[0;34m.\u001b[0m\u001b[0mget\u001b[0m\u001b[0;34m(\u001b[0m\u001b[0murl\u001b[0m\u001b[0;34m,\u001b[0m \u001b[0mheaders\u001b[0m\u001b[0;34m=\u001b[0m\u001b[0mheaders\u001b[0m\u001b[0;34m)\u001b[0m\u001b[0;34m\u001b[0m\u001b[0m\n\u001b[0m\u001b[1;32m      7\u001b[0m         \u001b[0mpagina_categorias\u001b[0m \u001b[0;34m=\u001b[0m \u001b[0mBeautifulSoup\u001b[0m\u001b[0;34m(\u001b[0m\u001b[0mresponse\u001b[0m\u001b[0;34m.\u001b[0m\u001b[0mtext\u001b[0m\u001b[0;34m,\u001b[0m\u001b[0;34m\"html.parser\"\u001b[0m\u001b[0;34m)\u001b[0m\u001b[0;34m\u001b[0m\u001b[0m\n\u001b[1;32m      8\u001b[0m         \u001b[0;32mif\u001b[0m \u001b[0mpagina_categorias\u001b[0m\u001b[0;34m.\u001b[0m\u001b[0mfind\u001b[0m\u001b[0;34m(\u001b[0m\u001b[0;34m'ul'\u001b[0m\u001b[0;34m,\u001b[0m \u001b[0mclass_\u001b[0m\u001b[0;34m=\u001b[0m\u001b[0;34m'container-menu-side block-line-menu-left'\u001b[0m\u001b[0;34m)\u001b[0m \u001b[0;34m!=\u001b[0m \u001b[0;32mNone\u001b[0m\u001b[0;34m:\u001b[0m\u001b[0;34m\u001b[0m\u001b[0m\n",
      "\u001b[0;32m/usr/lib/python3/dist-packages/requests/api.py\u001b[0m in \u001b[0;36mget\u001b[0;34m(url, params, **kwargs)\u001b[0m\n\u001b[1;32m     65\u001b[0m \u001b[0;34m\u001b[0m\u001b[0m\n\u001b[1;32m     66\u001b[0m     \u001b[0mkwargs\u001b[0m\u001b[0;34m.\u001b[0m\u001b[0msetdefault\u001b[0m\u001b[0;34m(\u001b[0m\u001b[0;34m'allow_redirects'\u001b[0m\u001b[0;34m,\u001b[0m \u001b[0;32mTrue\u001b[0m\u001b[0;34m)\u001b[0m\u001b[0;34m\u001b[0m\u001b[0m\n\u001b[0;32m---> 67\u001b[0;31m     \u001b[0;32mreturn\u001b[0m \u001b[0mrequest\u001b[0m\u001b[0;34m(\u001b[0m\u001b[0;34m'get'\u001b[0m\u001b[0;34m,\u001b[0m \u001b[0murl\u001b[0m\u001b[0;34m,\u001b[0m \u001b[0mparams\u001b[0m\u001b[0;34m=\u001b[0m\u001b[0mparams\u001b[0m\u001b[0;34m,\u001b[0m \u001b[0;34m**\u001b[0m\u001b[0mkwargs\u001b[0m\u001b[0;34m)\u001b[0m\u001b[0;34m\u001b[0m\u001b[0m\n\u001b[0m\u001b[1;32m     68\u001b[0m \u001b[0;34m\u001b[0m\u001b[0m\n\u001b[1;32m     69\u001b[0m \u001b[0;34m\u001b[0m\u001b[0m\n",
      "\u001b[0;32m/usr/lib/python3/dist-packages/requests/api.py\u001b[0m in \u001b[0;36mrequest\u001b[0;34m(method, url, **kwargs)\u001b[0m\n\u001b[1;32m     51\u001b[0m     \u001b[0;31m# cases, and look like a memory leak in others.\u001b[0m\u001b[0;34m\u001b[0m\u001b[0;34m\u001b[0m\u001b[0m\n\u001b[1;32m     52\u001b[0m     \u001b[0;32mwith\u001b[0m \u001b[0msessions\u001b[0m\u001b[0;34m.\u001b[0m\u001b[0mSession\u001b[0m\u001b[0;34m(\u001b[0m\u001b[0;34m)\u001b[0m \u001b[0;32mas\u001b[0m \u001b[0msession\u001b[0m\u001b[0;34m:\u001b[0m\u001b[0;34m\u001b[0m\u001b[0m\n\u001b[0;32m---> 53\u001b[0;31m         \u001b[0;32mreturn\u001b[0m \u001b[0msession\u001b[0m\u001b[0;34m.\u001b[0m\u001b[0mrequest\u001b[0m\u001b[0;34m(\u001b[0m\u001b[0mmethod\u001b[0m\u001b[0;34m=\u001b[0m\u001b[0mmethod\u001b[0m\u001b[0;34m,\u001b[0m \u001b[0murl\u001b[0m\u001b[0;34m=\u001b[0m\u001b[0murl\u001b[0m\u001b[0;34m,\u001b[0m \u001b[0;34m**\u001b[0m\u001b[0mkwargs\u001b[0m\u001b[0;34m)\u001b[0m\u001b[0;34m\u001b[0m\u001b[0m\n\u001b[0m\u001b[1;32m     54\u001b[0m \u001b[0;34m\u001b[0m\u001b[0m\n\u001b[1;32m     55\u001b[0m \u001b[0;34m\u001b[0m\u001b[0m\n",
      "\u001b[0;32m/usr/lib/python3/dist-packages/requests/sessions.py\u001b[0m in \u001b[0;36mrequest\u001b[0;34m(self, method, url, params, data, headers, cookies, files, auth, timeout, allow_redirects, proxies, hooks, stream, verify, cert, json)\u001b[0m\n\u001b[1;32m    466\u001b[0m         }\n\u001b[1;32m    467\u001b[0m         \u001b[0msend_kwargs\u001b[0m\u001b[0;34m.\u001b[0m\u001b[0mupdate\u001b[0m\u001b[0;34m(\u001b[0m\u001b[0msettings\u001b[0m\u001b[0;34m)\u001b[0m\u001b[0;34m\u001b[0m\u001b[0m\n\u001b[0;32m--> 468\u001b[0;31m         \u001b[0mresp\u001b[0m \u001b[0;34m=\u001b[0m \u001b[0mself\u001b[0m\u001b[0;34m.\u001b[0m\u001b[0msend\u001b[0m\u001b[0;34m(\u001b[0m\u001b[0mprep\u001b[0m\u001b[0;34m,\u001b[0m \u001b[0;34m**\u001b[0m\u001b[0msend_kwargs\u001b[0m\u001b[0;34m)\u001b[0m\u001b[0;34m\u001b[0m\u001b[0m\n\u001b[0m\u001b[1;32m    469\u001b[0m \u001b[0;34m\u001b[0m\u001b[0m\n\u001b[1;32m    470\u001b[0m         \u001b[0;32mreturn\u001b[0m \u001b[0mresp\u001b[0m\u001b[0;34m\u001b[0m\u001b[0m\n",
      "\u001b[0;32m/usr/lib/python3/dist-packages/requests/sessions.py\u001b[0m in \u001b[0;36msend\u001b[0;34m(self, request, **kwargs)\u001b[0m\n\u001b[1;32m    574\u001b[0m \u001b[0;34m\u001b[0m\u001b[0m\n\u001b[1;32m    575\u001b[0m         \u001b[0;31m# Send the request\u001b[0m\u001b[0;34m\u001b[0m\u001b[0;34m\u001b[0m\u001b[0m\n\u001b[0;32m--> 576\u001b[0;31m         \u001b[0mr\u001b[0m \u001b[0;34m=\u001b[0m \u001b[0madapter\u001b[0m\u001b[0;34m.\u001b[0m\u001b[0msend\u001b[0m\u001b[0;34m(\u001b[0m\u001b[0mrequest\u001b[0m\u001b[0;34m,\u001b[0m \u001b[0;34m**\u001b[0m\u001b[0mkwargs\u001b[0m\u001b[0;34m)\u001b[0m\u001b[0;34m\u001b[0m\u001b[0m\n\u001b[0m\u001b[1;32m    577\u001b[0m \u001b[0;34m\u001b[0m\u001b[0m\n\u001b[1;32m    578\u001b[0m         \u001b[0;31m# Total elapsed time of the request (approximately)\u001b[0m\u001b[0;34m\u001b[0m\u001b[0;34m\u001b[0m\u001b[0m\n",
      "\u001b[0;32m/usr/lib/python3/dist-packages/requests/adapters.py\u001b[0m in \u001b[0;36msend\u001b[0;34m(self, request, stream, timeout, verify, cert, proxies)\u001b[0m\n\u001b[1;32m    374\u001b[0m                     \u001b[0mdecode_content\u001b[0m\u001b[0;34m=\u001b[0m\u001b[0;32mFalse\u001b[0m\u001b[0;34m,\u001b[0m\u001b[0;34m\u001b[0m\u001b[0m\n\u001b[1;32m    375\u001b[0m                     \u001b[0mretries\u001b[0m\u001b[0;34m=\u001b[0m\u001b[0mself\u001b[0m\u001b[0;34m.\u001b[0m\u001b[0mmax_retries\u001b[0m\u001b[0;34m,\u001b[0m\u001b[0;34m\u001b[0m\u001b[0m\n\u001b[0;32m--> 376\u001b[0;31m                     \u001b[0mtimeout\u001b[0m\u001b[0;34m=\u001b[0m\u001b[0mtimeout\u001b[0m\u001b[0;34m\u001b[0m\u001b[0m\n\u001b[0m\u001b[1;32m    377\u001b[0m                 )\n\u001b[1;32m    378\u001b[0m \u001b[0;34m\u001b[0m\u001b[0m\n",
      "\u001b[0;32m/usr/lib/python3/dist-packages/urllib3/connectionpool.py\u001b[0m in \u001b[0;36murlopen\u001b[0;34m(self, method, url, body, headers, retries, redirect, assert_same_host, timeout, pool_timeout, release_conn, **response_kw)\u001b[0m\n\u001b[1;32m    558\u001b[0m             httplib_response = self._make_request(conn, method, url,\n\u001b[1;32m    559\u001b[0m                                                   \u001b[0mtimeout\u001b[0m\u001b[0;34m=\u001b[0m\u001b[0mtimeout_obj\u001b[0m\u001b[0;34m,\u001b[0m\u001b[0;34m\u001b[0m\u001b[0m\n\u001b[0;32m--> 560\u001b[0;31m                                                   body=body, headers=headers)\n\u001b[0m\u001b[1;32m    561\u001b[0m \u001b[0;34m\u001b[0m\u001b[0m\n\u001b[1;32m    562\u001b[0m             \u001b[0;31m# If we're going to release the connection in ``finally:``, then\u001b[0m\u001b[0;34m\u001b[0m\u001b[0;34m\u001b[0m\u001b[0m\n",
      "\u001b[0;32m/usr/lib/python3/dist-packages/urllib3/connectionpool.py\u001b[0m in \u001b[0;36m_make_request\u001b[0;34m(self, conn, method, url, timeout, **httplib_request_kw)\u001b[0m\n\u001b[1;32m    377\u001b[0m                 \u001b[0mhttplib_response\u001b[0m \u001b[0;34m=\u001b[0m \u001b[0mconn\u001b[0m\u001b[0;34m.\u001b[0m\u001b[0mgetresponse\u001b[0m\u001b[0;34m(\u001b[0m\u001b[0mbuffering\u001b[0m\u001b[0;34m=\u001b[0m\u001b[0;32mTrue\u001b[0m\u001b[0;34m)\u001b[0m\u001b[0;34m\u001b[0m\u001b[0m\n\u001b[1;32m    378\u001b[0m             \u001b[0;32mexcept\u001b[0m \u001b[0mTypeError\u001b[0m\u001b[0;34m:\u001b[0m  \u001b[0;31m# Python 2.6 and older\u001b[0m\u001b[0;34m\u001b[0m\u001b[0m\n\u001b[0;32m--> 379\u001b[0;31m                 \u001b[0mhttplib_response\u001b[0m \u001b[0;34m=\u001b[0m \u001b[0mconn\u001b[0m\u001b[0;34m.\u001b[0m\u001b[0mgetresponse\u001b[0m\u001b[0;34m(\u001b[0m\u001b[0;34m)\u001b[0m\u001b[0;34m\u001b[0m\u001b[0m\n\u001b[0m\u001b[1;32m    380\u001b[0m         \u001b[0;32mexcept\u001b[0m \u001b[0;34m(\u001b[0m\u001b[0mSocketTimeout\u001b[0m\u001b[0;34m,\u001b[0m \u001b[0mBaseSSLError\u001b[0m\u001b[0;34m,\u001b[0m \u001b[0mSocketError\u001b[0m\u001b[0;34m)\u001b[0m \u001b[0;32mas\u001b[0m \u001b[0me\u001b[0m\u001b[0;34m:\u001b[0m\u001b[0;34m\u001b[0m\u001b[0m\n\u001b[1;32m    381\u001b[0m             \u001b[0mself\u001b[0m\u001b[0;34m.\u001b[0m\u001b[0m_raise_timeout\u001b[0m\u001b[0;34m(\u001b[0m\u001b[0merr\u001b[0m\u001b[0;34m=\u001b[0m\u001b[0me\u001b[0m\u001b[0;34m,\u001b[0m \u001b[0murl\u001b[0m\u001b[0;34m=\u001b[0m\u001b[0murl\u001b[0m\u001b[0;34m,\u001b[0m \u001b[0mtimeout_value\u001b[0m\u001b[0;34m=\u001b[0m\u001b[0mread_timeout\u001b[0m\u001b[0;34m)\u001b[0m\u001b[0;34m\u001b[0m\u001b[0m\n",
      "\u001b[0;32m/usr/lib/python3.5/http/client.py\u001b[0m in \u001b[0;36mgetresponse\u001b[0;34m(self)\u001b[0m\n\u001b[1;32m   1195\u001b[0m         \u001b[0;32mtry\u001b[0m\u001b[0;34m:\u001b[0m\u001b[0;34m\u001b[0m\u001b[0m\n\u001b[1;32m   1196\u001b[0m             \u001b[0;32mtry\u001b[0m\u001b[0;34m:\u001b[0m\u001b[0;34m\u001b[0m\u001b[0m\n\u001b[0;32m-> 1197\u001b[0;31m                 \u001b[0mresponse\u001b[0m\u001b[0;34m.\u001b[0m\u001b[0mbegin\u001b[0m\u001b[0;34m(\u001b[0m\u001b[0;34m)\u001b[0m\u001b[0;34m\u001b[0m\u001b[0m\n\u001b[0m\u001b[1;32m   1198\u001b[0m             \u001b[0;32mexcept\u001b[0m \u001b[0mConnectionError\u001b[0m\u001b[0;34m:\u001b[0m\u001b[0;34m\u001b[0m\u001b[0m\n\u001b[1;32m   1199\u001b[0m                 \u001b[0mself\u001b[0m\u001b[0;34m.\u001b[0m\u001b[0mclose\u001b[0m\u001b[0;34m(\u001b[0m\u001b[0;34m)\u001b[0m\u001b[0;34m\u001b[0m\u001b[0m\n",
      "\u001b[0;32m/usr/lib/python3.5/http/client.py\u001b[0m in \u001b[0;36mbegin\u001b[0;34m(self)\u001b[0m\n\u001b[1;32m    295\u001b[0m         \u001b[0;31m# read until we get a non-100 response\u001b[0m\u001b[0;34m\u001b[0m\u001b[0;34m\u001b[0m\u001b[0m\n\u001b[1;32m    296\u001b[0m         \u001b[0;32mwhile\u001b[0m \u001b[0;32mTrue\u001b[0m\u001b[0;34m:\u001b[0m\u001b[0;34m\u001b[0m\u001b[0m\n\u001b[0;32m--> 297\u001b[0;31m             \u001b[0mversion\u001b[0m\u001b[0;34m,\u001b[0m \u001b[0mstatus\u001b[0m\u001b[0;34m,\u001b[0m \u001b[0mreason\u001b[0m \u001b[0;34m=\u001b[0m \u001b[0mself\u001b[0m\u001b[0;34m.\u001b[0m\u001b[0m_read_status\u001b[0m\u001b[0;34m(\u001b[0m\u001b[0;34m)\u001b[0m\u001b[0;34m\u001b[0m\u001b[0m\n\u001b[0m\u001b[1;32m    298\u001b[0m             \u001b[0;32mif\u001b[0m \u001b[0mstatus\u001b[0m \u001b[0;34m!=\u001b[0m \u001b[0mCONTINUE\u001b[0m\u001b[0;34m:\u001b[0m\u001b[0;34m\u001b[0m\u001b[0m\n\u001b[1;32m    299\u001b[0m                 \u001b[0;32mbreak\u001b[0m\u001b[0;34m\u001b[0m\u001b[0m\n",
      "\u001b[0;32m/usr/lib/python3.5/http/client.py\u001b[0m in \u001b[0;36m_read_status\u001b[0;34m(self)\u001b[0m\n\u001b[1;32m    256\u001b[0m \u001b[0;34m\u001b[0m\u001b[0m\n\u001b[1;32m    257\u001b[0m     \u001b[0;32mdef\u001b[0m \u001b[0m_read_status\u001b[0m\u001b[0;34m(\u001b[0m\u001b[0mself\u001b[0m\u001b[0;34m)\u001b[0m\u001b[0;34m:\u001b[0m\u001b[0;34m\u001b[0m\u001b[0m\n\u001b[0;32m--> 258\u001b[0;31m         \u001b[0mline\u001b[0m \u001b[0;34m=\u001b[0m \u001b[0mstr\u001b[0m\u001b[0;34m(\u001b[0m\u001b[0mself\u001b[0m\u001b[0;34m.\u001b[0m\u001b[0mfp\u001b[0m\u001b[0;34m.\u001b[0m\u001b[0mreadline\u001b[0m\u001b[0;34m(\u001b[0m\u001b[0m_MAXLINE\u001b[0m \u001b[0;34m+\u001b[0m \u001b[0;36m1\u001b[0m\u001b[0;34m)\u001b[0m\u001b[0;34m,\u001b[0m \u001b[0;34m\"iso-8859-1\"\u001b[0m\u001b[0;34m)\u001b[0m\u001b[0;34m\u001b[0m\u001b[0m\n\u001b[0m\u001b[1;32m    259\u001b[0m         \u001b[0;32mif\u001b[0m \u001b[0mlen\u001b[0m\u001b[0;34m(\u001b[0m\u001b[0mline\u001b[0m\u001b[0;34m)\u001b[0m \u001b[0;34m>\u001b[0m \u001b[0m_MAXLINE\u001b[0m\u001b[0;34m:\u001b[0m\u001b[0;34m\u001b[0m\u001b[0m\n\u001b[1;32m    260\u001b[0m             \u001b[0;32mraise\u001b[0m \u001b[0mLineTooLong\u001b[0m\u001b[0;34m(\u001b[0m\u001b[0;34m\"status line\"\u001b[0m\u001b[0;34m)\u001b[0m\u001b[0;34m\u001b[0m\u001b[0m\n",
      "\u001b[0;32m/usr/lib/python3.5/socket.py\u001b[0m in \u001b[0;36mreadinto\u001b[0;34m(self, b)\u001b[0m\n\u001b[1;32m    573\u001b[0m         \u001b[0;32mwhile\u001b[0m \u001b[0;32mTrue\u001b[0m\u001b[0;34m:\u001b[0m\u001b[0;34m\u001b[0m\u001b[0m\n\u001b[1;32m    574\u001b[0m             \u001b[0;32mtry\u001b[0m\u001b[0;34m:\u001b[0m\u001b[0;34m\u001b[0m\u001b[0m\n\u001b[0;32m--> 575\u001b[0;31m                 \u001b[0;32mreturn\u001b[0m \u001b[0mself\u001b[0m\u001b[0;34m.\u001b[0m\u001b[0m_sock\u001b[0m\u001b[0;34m.\u001b[0m\u001b[0mrecv_into\u001b[0m\u001b[0;34m(\u001b[0m\u001b[0mb\u001b[0m\u001b[0;34m)\u001b[0m\u001b[0;34m\u001b[0m\u001b[0m\n\u001b[0m\u001b[1;32m    576\u001b[0m             \u001b[0;32mexcept\u001b[0m \u001b[0mtimeout\u001b[0m\u001b[0;34m:\u001b[0m\u001b[0;34m\u001b[0m\u001b[0m\n\u001b[1;32m    577\u001b[0m                 \u001b[0mself\u001b[0m\u001b[0;34m.\u001b[0m\u001b[0m_timeout_occurred\u001b[0m \u001b[0;34m=\u001b[0m \u001b[0;32mTrue\u001b[0m\u001b[0;34m\u001b[0m\u001b[0m\n",
      "\u001b[0;31mKeyboardInterrupt\u001b[0m: "
     ]
    }
   ],
   "source": [
    "for a in dict_of_links:\n",
    "    list_produtos_categorias=[]\n",
    "    for b in dict_of_links[a]:\n",
    "        url=b\n",
    "        headers = {\"User-Agent\":\"Mozilla/5.0\"}\n",
    "        response = rq.get(url, headers=headers)\n",
    "        pagina_categorias = BeautifulSoup(response.text,\"html.parser\")\n",
    "        if pagina_categorias.find('ul', class_='container-menu-side block-line-menu-left') != None:\n",
    "            uls_linhas = pagina_categorias.find_all('ul', class_='container-menu-side block-line-menu-left')\n",
    "            for y in uls_linhas:\n",
    "                test =''\n",
    "                if y.find('li', class_='line-product').find('a') != None:\n",
    "                    link_linhas = 'http://www.magazineluiza.com.br'+y.find('li', class_='line-product').find('a').get('href')\n",
    "                    url_linhas=b\n",
    "                    headers = {\"User-Agent\":\"Mozilla/5.0\"}\n",
    "                    response = rq.get(url_linhas, headers=headers)\n",
    "                    pagina_linhas = BeautifulSoup(response.text,\"html.parser\")\n",
    "                    pagination_pagina_linhas=''\n",
    "                    if pagina_linhas.find('div',class_='product-showcase-bottom') != None:\n",
    "                        pagination_pagina_linhas = pagina_linhas.find('div',class_='product-showcase-bottom').find_all('a',class_='page')\n",
    "                    produtos = pagina_linhas.find_all('li',class_='product')\n",
    "                    \n",
    "                    for i in produtos:\n",
    "                        link_produto=i.find('a',class_='product-li').get('href')\n",
    "                        nome_descricao_produto=i.find('h3',class_='productTitle').text\n",
    "                        if i.find('span',class_='productPrice') != None:\n",
    "                            valor_produto=i.find('span',class_='productPrice').find('span',class_='price').text\n",
    "                            valor_produto=valor_produto.split('$')\n",
    "                            valor_produto=float(valor_produto[1].replace('\\n','').replace('.','').replace(',','.').strip())\n",
    "                        else:\n",
    "                            valor_produto=None\n",
    "                        list_produtos_categorias.append(dict(zip(['categoria','nome_produto','valor_produto','link_produto'],[a,nome_descricao_produto,valor_produto,link_produto])))\n",
    "                    \n",
    "                    if pagination_pagina_linhas != '':\n",
    "                        for e in pagination_pagina_linhas:\n",
    "                            \n",
    "                            link_paginacao = 'http://www.magazineluiza.com.br'+e.get('href')\n",
    "                            url_paginacao=b\n",
    "                            headers = {\"User-Agent\":\"Mozilla/5.0\"}\n",
    "                            response = rq.get(url_paginacao, headers=headers)\n",
    "                            pagina_paginacao = BeautifulSoup(response.text,\"html.parser\")\n",
    "                            produtos = pagina_linhas.find_all('li',class_='product')\n",
    "\n",
    "                            for pagina_i in produtos:\n",
    "                                link_produto=i.find('a',class_='product-li').get('href')\n",
    "                                nome_descricao_produto=pagina_i.find('h3',class_='productTitle').text\n",
    "                                if pagina_i.find('span',class_='productPrice') != None:\n",
    "                                    valor_produto=pagina_i.find('span',class_='productPrice').find('span',class_='price').text\n",
    "                                    valor_produto=valor_produto.split('$')\n",
    "                                    valor_produto=float(valor_produto[1].replace('\\n','').replace('.','').replace(',','.').strip())\n",
    "                                else:\n",
    "                                    valor_produto=None\n",
    "                                list_produtos_categorias.append(dict(zip(['categoria','nome_produto','valor_produto','link_produto'],[a,nome_descricao_produto,valor_produto,link_produto])))\n",
    "    dataProdutos=''\n",
    "    dataProdutos = pd.DataFrame(list_produtos_categorias,columns=['categoria','nome_produto','valor_produto','link_produto'])\n",
    "    dataProdutos.to_csv('csv/'+data+'/dt_produtos_'+a, sep='\\t', encoding='utf-8')\n",
    "    \n",
    "        "
   ]
  },
  {
   "cell_type": "code",
   "execution_count": null,
   "metadata": {
    "collapsed": true
   },
   "outputs": [],
   "source": []
  },
  {
   "cell_type": "code",
   "execution_count": null,
   "metadata": {
    "collapsed": true,
    "deletable": true,
    "editable": true
   },
   "outputs": [],
   "source": []
  }
 ],
 "metadata": {
  "kernelspec": {
   "display_name": "Python 3",
   "language": "python",
   "name": "python3"
  },
  "language_info": {
   "codemirror_mode": {
    "name": "ipython",
    "version": 3
   },
   "file_extension": ".py",
   "mimetype": "text/x-python",
   "name": "python",
   "nbconvert_exporter": "python",
   "pygments_lexer": "ipython3",
   "version": "3.5.2"
  }
 },
 "nbformat": 4,
 "nbformat_minor": 2
}
