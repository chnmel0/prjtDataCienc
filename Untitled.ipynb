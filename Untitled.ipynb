{
 "cells": [
  {
   "cell_type": "markdown",
   "metadata": {},
   "source": [
    "# prjtDataCienc"
   ]
  },
  {
   "cell_type": "code",
   "execution_count": 2,
   "metadata": {
    "collapsed": true
   },
   "outputs": [],
   "source": [
    "import pandas as pd\n",
    "import numpy as np\n",
    "from bs4 import BeautifulSoup\n",
    "import requests as rq"
   ]
  },
  {
   "cell_type": "code",
   "execution_count": 80,
   "metadata": {
    "collapsed": false
   },
   "outputs": [
    {
     "name": "stdout",
     "output_type": "stream",
     "text": [
      "<!DOCTYPE html>\n",
      "<html lang=\"pt\">\n",
      " <head>\n",
      "  <title>\n",
      "   Magazine Luiza - Vem ser feliz!\n",
      "  </title>\n",
      "  <meta content=\"    As melhores ofertas em móveis, eletrônicos, eletrodomésticos, informática e muito mais, você encontra no site do Magazine Luiza! Confira!\n",
      "  \" name=\"description\">\n",
      "   <link href=\"http://www.magazineluiza.com.br/\" rel=\"canonical\"/>\n",
      "   <link href=\"https://m.magazineluiza.com.br\" rel=\"alternate\"/>\n",
      "   <script type=\"text/javascript\">\n",
      "    (window.NREUM||(NREUM={})).loader_config={xpid:\"VQ8FV1ZUGwIAVlJRBgUD\"};window.NREUM||(NREUM={}),__nr_require=function(t,n,e){function r(e){if(!n[e]){var o=n[e]={exports:{}};t[e][0].call(o.exports,function(n){var o=t[e][1][n];return r(o||n)},o,o.exports)}return n[e].exports}if(\"function\"==typeof __nr_require)return __nr_require;for(var o=0;o<e.length;o++)r(e[o]);return r}({1:[function(t,n,e){function r(t){try{s.console&&console.log(t)}catch(n){}}var o,i=t(\"ee\"),a=t(15),s={};try{o=localStorage.getItem(\"__nr_flags\").split(\",\"),console&&\"function\"\n"
     ]
    }
   ],
   "source": [
    "url=\"http://www.magazineluiza.com.br/\"\n",
    "headers = {\"User-Agent\":\"Mozilla/5.0\"}\n",
    "response = rq.get(url, headers=headers)\n",
    "parsed_page_home = BeautifulSoup(response.text,\"html.parser\")\n",
    "print(parsed_page.prettify()[:1000])"
   ]
  },
  {
   "cell_type": "code",
   "execution_count": 100,
   "metadata": {
    "collapsed": false
   },
   "outputs": [
    {
     "data": {
      "text/plain": [
       "[['Celulares',\n",
       "  'http://www.magazineluiza.com.br/celulares-e-smartphones/l/te/'],\n",
       " ['Tablets', 'http://www.magazineluiza.com.br/tablets/l/tb/'],\n",
       " ['TV e Vídeo', 'http://www.magazineluiza.com.br/tv-e-video/l/et/'],\n",
       " ['Áudio', 'http://www.magazineluiza.com.br/audio/l/ea/'],\n",
       " ['Informática', 'http://www.magazineluiza.com.br/informatica/l/in/'],\n",
       " ['Informática e Acessórios',\n",
       "  'http://www.magazineluiza.com.br/acessorios-de-tecnologia/l/ia/'],\n",
       " ['Câmeras e Filmadoras',\n",
       "  'http://www.magazineluiza.com.br/cameras-e-filmadoras/l/cf/'],\n",
       " ['Games', 'http://www.magazineluiza.com.br/games/l/ga/'],\n",
       " ['Eletrodomésticos',\n",
       "  'http://www.magazineluiza.com.br/eletrodomesticos/l/ed/'],\n",
       " ['Eletroportáteis', 'http://www.magazineluiza.com.br/eletroportateis/l/ep/'],\n",
       " ['Móveis', 'http://www.magazineluiza.com.br/moveis-e-decoracao/l/mo/'],\n",
       " ['Colchões', 'http://www.magazineluiza.com.br/colchoes/l/co/'],\n",
       " ['Ar e Ventilação', 'http://www.magazineluiza.com.br/ar-e-ventilacao/l/ar/'],\n",
       " ['Bebês', 'http://www.magazineluiza.com.br/bebe/l/bb/'],\n",
       " ['Brinquedos', 'http://www.magazineluiza.com.br/brinquedos/l/br/'],\n",
       " ['Perfumaria e Cosméticos',\n",
       "  'http://www.magazineluiza.com.br/perfumaria/l/pf/'],\n",
       " ['Beleza e Saúde', 'http://www.magazineluiza.com.br/beleza-e-saude/l/cp/'],\n",
       " ['Esporte e Lazer', 'http://www.magazineluiza.com.br/esporte-e-lazer/l/es/'],\n",
       " ['Suplementos Alimentares',\n",
       "  'http://www.magazineluiza.com.br/suplementos-alimentares/l/sa/'],\n",
       " ['Relógios e Acessórios', 'http://www.magazineluiza.com.br/relogios/l/re/'],\n",
       " ['Cama, Mesa e Banho',\n",
       "  'http://www.magazineluiza.com.br/cama-mesa-e-banho/l/cm/'],\n",
       " ['Utilidades Domésticas',\n",
       "  'http://www.magazineluiza.com.br/utilidades-domesticas/l/ud/'],\n",
       " ['Linha Industrial',\n",
       "  'http://www.magazineluiza.com.br/linha-industrial/l/pi/'],\n",
       " ['Casa e Jardim', 'http://www.magazineluiza.com.br/casa-e-jardim/l/cj/'],\n",
       " ['Ferramentas e Segurança',\n",
       "  'http://www.magazineluiza.com.br/ferramentas-e-seguranca/l/fs/'],\n",
       " ['Automotivo', 'http://www.magazineluiza.com.br/automotivo/l/au/'],\n",
       " ['Telefonia Fixa', 'http://www.magazineluiza.com.br/telefonia-fixa/l/tf/'],\n",
       " ['Mercado', 'http://www.magazineluiza.com.br/mercado/l/me/'],\n",
       " ['Bebidas e Alimentos',\n",
       "  'http://www.magazineluiza.com.br/bebidas-e-alimentos/l/ba/'],\n",
       " ['Instrumentos Musicais',\n",
       "  'http://www.magazineluiza.com.br/instrumentos-musicais/l/im/'],\n",
       " ['Pet Shop', 'http://www.magazineluiza.com.br/pet-shop/l/pe/'],\n",
       " ['Livros', 'http://www.magazineluiza.com.br/livros/l/li/'],\n",
       " ['Papelaria', 'http://www.magazineluiza.com.br/papelaria/l/pa/'],\n",
       " ['Armarinhos', 'http://www.magazineluiza.com.br/armarinhos/l/am/']]"
      ]
     },
     "execution_count": 100,
     "metadata": {},
     "output_type": "execute_result"
    }
   ],
   "source": [
    "link =parsed_page_home.find_all('a',class_=\"title-menu-header \" )\n",
    "link\n",
    "listOfLinksHOme=[]\n",
    "for i in link:\n",
    "        listOfLinksHOme.append([i.get('title'),'http://www.magazineluiza.com.br'+i.get('href')])\n",
    "listOfLinksHOme"
   ]
  },
  {
   "cell_type": "code",
   "execution_count": 107,
   "metadata": {
    "collapsed": false
   },
   "outputs": [
    {
     "data": {
      "text/plain": [
       "{'Ar e Ventilação': 'http://www.magazineluiza.com.br/acessorios-para-ar-condicionado/ar-e-ventilacao/s/ar/aave/',\n",
       " 'Armarinhos': 'http://www.magazineluiza.com.br/outros-produtos-para-artesanato/armarinhos/s/am/aopa/',\n",
       " 'Automotivo': 'http://www.magazineluiza.com.br/kits-de-pneus/automotivo/s/au/kpne/',\n",
       " 'Bebidas e Alimentos': 'http://www.magazineluiza.com.br/ovo-de-pascoa/bebidas-e-alimentos/s/ba/pasc/',\n",
       " 'Bebês': 'http://www.magazineluiza.com.br/produtos-nania/bebe/s/bb/nani/',\n",
       " 'Beleza e Saúde': 'http://www.magazineluiza.com.br/kits-promocionais/beleza-e-saude/s/cp/bskp/',\n",
       " 'Brinquedos': 'http://www.magazineluiza.com.br/brinquedos-para-meninas-de-10-anos-ou-mais/brinquedos/s/br/ba10/',\n",
       " 'Cama, Mesa e Banho': 'http://www.magazineluiza.com.br/kit-promocional-de-cameba/cama-mesa-e-banho/s/cm/cmkp/',\n",
       " 'Casa e Jardim': 'http://www.magazineluiza.com.br/acessorio-para-lavadora-de-pressao/casa-e-jardim/s/cj/cjaa/',\n",
       " 'Celulares': 'http://www.magazineluiza.com.br/lg-g6/celulares-e-smartphones/s/te/lgg6/',\n",
       " 'Colchões': 'http://www.magazineluiza.com.br/colchoes-inflaveis/esporte-e-lazer/s/es/coif/',\n",
       " 'Câmeras e Filmadoras': 'http://www.magazineluiza.com.br/acessorios-para-gopro/cameras-e-filmadoras/s/cf/agpr/',\n",
       " 'Eletrodomésticos': 'http://www.magazineluiza.com.br/acessorios-para-geladeira-refrigerador/eletrodomesticos/s/ed/acrf/',\n",
       " 'Eletroportáteis': 'http://www.magazineluiza.com.br/chopeiras/casa-e-jardim/s/cj/cach/',\n",
       " 'Esporte e Lazer': 'http://www.magazineluiza.com.br/outros-acessorios-para-fitness-e-musculacao/esporte-e-lazer/s/es/oftm/',\n",
       " 'Ferramentas e Segurança': 'http://www.magazineluiza.com.br/escada-extensivel/ferramentas-e-seguranca/s/fs/escx/',\n",
       " 'Games': 'http://www.magazineluiza.com.br/jogos-em-pre-venda/games/s/ga/jpre/',\n",
       " 'Informática': 'http://www.magazineluiza.com.br/acessorios-de-tecnologia/l/ia/',\n",
       " 'Informática e Acessórios': 'http://www.magazineluiza.com.br/impressora-de-foto-para-celular/celulares-e-smartphones/s/te/ixpc/',\n",
       " 'Instrumentos Musicais': 'http://www.magazineluiza.com.br/equipamento-para-dj/instrumentos-musicais/s/im/imdj/',\n",
       " 'Linha Industrial': 'http://www.magazineluiza.com.br/produtos-de-refrigeracao-industrial/linha-industrial/s/pi/rein/',\n",
       " 'Livros': 'http://www.magazineluiza.com.br/livro-de-literatura-estrangeira/livros/s/li/letr/',\n",
       " 'Mercado': 'http://www.magazineluiza.com.br/inseticidas/mercado/s/me/inse/',\n",
       " 'Móveis': 'http://www.magazineluiza.com.br/colchao-berco/colchoes/s/co/cobr/',\n",
       " 'Papelaria': 'http://www.magazineluiza.com.br/cartao-para-presente/papelaria/s/pa/pkto/',\n",
       " 'Perfumaria e Cosméticos': 'http://www.magazineluiza.com.br/perfume/perfumaria/s/pf/pftm/',\n",
       " 'Pet Shop': 'http://www.magazineluiza.com.br/remedios-otologicos-para-cachorro/pet-shop/s/pe/poto/',\n",
       " 'Relógios e Acessórios': 'http://www.magazineluiza.com.br/smartwatch/celulares-e-smartphones/s/te/smtw/',\n",
       " 'Suplementos Alimentares': 'http://www.magazineluiza.com.br/carnitina/suplementos-alimentares/s/sa/sact/',\n",
       " 'TV e Vídeo': 'http://www.magazineluiza.com.br/tv-acima-de-55-polegadas/tv-led-plasma-lcd-e-outras/tv-e-video/s/et/tac5/peco/',\n",
       " 'Tablets': 'http://www.magazineluiza.com.br/kindle-e-readers/tablets/s/tb/kind/',\n",
       " 'Telefonia Fixa': 'http://www.magazineluiza.com.br/telefone-sem-fio-com-agenda/telefonia-fixa/s/tf/tsfe/',\n",
       " 'Utilidades Domésticas': 'http://www.magazineluiza.com.br/pratos-avulsos/utilidades-domesticas/s/ud/prav/',\n",
       " 'Áudio': 'http://www.magazineluiza.com.br/home-theater-acima-de-1000w/audio/s/ea/ea1w/'}"
      ]
     },
     "execution_count": 107,
     "metadata": {},
     "output_type": "execute_result"
    }
   ],
   "source": [
    "listOfLinks={}\n",
    "for e in listOfLinksHOme:\n",
    "    url=e[1]\n",
    "    headers = {\"User-Agent\":\"Mozilla/5.0\"}\n",
    "    response = rq.get(url, headers=headers)\n",
    "    parsed_page = BeautifulSoup(response.text,\"html.parser\")\n",
    "    if parsed_page.find('ul', class_='container-menu-side block-line-menu-left') != None:\n",
    "        link2 = parsed_page.find('ul', class_='container-menu-side block-line-menu-left').find_all('li')\n",
    "    \n",
    "        for i in link2:\n",
    "            if i.find('a') != None:\n",
    "                listOfLinks[e[0]]=['http://www.magazineluiza.com.br'+i.find('a').get('href'),listOfLinks[e[0]]]]\n",
    "\n",
    "listOfLinks"
   ]
  },
  {
   "cell_type": "code",
   "execution_count": null,
   "metadata": {
    "collapsed": true
   },
   "outputs": [],
   "source": []
  }
 ],
 "metadata": {
  "kernelspec": {
   "display_name": "Python 3",
   "language": "python",
   "name": "python3"
  },
  "language_info": {
   "codemirror_mode": {
    "name": "ipython",
    "version": 3
   },
   "file_extension": ".py",
   "mimetype": "text/x-python",
   "name": "python",
   "nbconvert_exporter": "python",
   "pygments_lexer": "ipython3",
   "version": "3.5.2"
  }
 },
 "nbformat": 4,
 "nbformat_minor": 2
}
